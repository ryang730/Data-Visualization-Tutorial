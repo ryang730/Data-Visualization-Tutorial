{
 "cells": [
  {
   "cell_type": "markdown",
   "id": "signal-presentation",
   "metadata": {},
   "source": [
    "# Data Visualization Using Bokeh"
   ]
  },
  {
   "cell_type": "code",
   "execution_count": 2,
   "id": "divine-essay",
   "metadata": {},
   "outputs": [],
   "source": [
    "#Import package\n",
    "import bokeh as bk"
   ]
  },
  {
   "cell_type": "markdown",
   "id": "breeding-negative",
   "metadata": {},
   "source": [
    "## Introduction"
   ]
  },
  {
   "cell_type": "markdown",
   "id": "legal-proportion",
   "metadata": {},
   "source": [
    "Bokeh is a Python library specialized in creating interactive visualizations for web browsers. While you are a beginner, an intermediate, or an advanced in data visualization, you would find the corresponding section and create JavaScript-powered visualization using Python."
   ]
  },
  {
   "cell_type": "markdown",
   "id": "likely-sleeve",
   "metadata": {},
   "source": [
    "## Beginner"
   ]
  },
  {
   "cell_type": "markdown",
   "id": "original-cruise",
   "metadata": {},
   "source": [
    "While Bokeh specializes in creating interactive plots, it can also fulfill the essential plot functions of other data visualization packages such as seaborn and matplotlib. At the beginning of our tutorial, we will show how to plot the basic plots, such as line chart plot and bar plot, and the steps to make the plots readable to the audience by adding legends, text, and annotation. We would further glimpse Bokeh's vital interactive data visualization function by instructing on how to use widgets to have users create custom plots.\n"
   ]
  },
  {
   "cell_type": "code",
   "execution_count": 37,
   "id": "similar-soccer",
   "metadata": {},
   "outputs": [
    {
     "data": {
      "text/html": [
       "<div>\n",
       "<style scoped>\n",
       "    .dataframe tbody tr th:only-of-type {\n",
       "        vertical-align: middle;\n",
       "    }\n",
       "\n",
       "    .dataframe tbody tr th {\n",
       "        vertical-align: top;\n",
       "    }\n",
       "\n",
       "    .dataframe thead th {\n",
       "        text-align: right;\n",
       "    }\n",
       "</style>\n",
       "<table border=\"1\" class=\"dataframe\">\n",
       "  <thead>\n",
       "    <tr style=\"text-align: right;\">\n",
       "      <th></th>\n",
       "      <th>A</th>\n",
       "      <th>B</th>\n",
       "      <th>C</th>\n",
       "      <th>D</th>\n",
       "    </tr>\n",
       "  </thead>\n",
       "  <tbody>\n",
       "    <tr>\n",
       "      <th>0</th>\n",
       "      <td>6</td>\n",
       "      <td>3</td>\n",
       "      <td>2</td>\n",
       "      <td>7</td>\n",
       "    </tr>\n",
       "    <tr>\n",
       "      <th>1</th>\n",
       "      <td>2</td>\n",
       "      <td>8</td>\n",
       "      <td>0</td>\n",
       "      <td>5</td>\n",
       "    </tr>\n",
       "    <tr>\n",
       "      <th>2</th>\n",
       "      <td>5</td>\n",
       "      <td>0</td>\n",
       "      <td>0</td>\n",
       "      <td>7</td>\n",
       "    </tr>\n",
       "    <tr>\n",
       "      <th>3</th>\n",
       "      <td>0</td>\n",
       "      <td>3</td>\n",
       "      <td>1</td>\n",
       "      <td>8</td>\n",
       "    </tr>\n",
       "    <tr>\n",
       "      <th>4</th>\n",
       "      <td>1</td>\n",
       "      <td>7</td>\n",
       "      <td>3</td>\n",
       "      <td>4</td>\n",
       "    </tr>\n",
       "  </tbody>\n",
       "</table>\n",
       "</div>"
      ],
      "text/plain": [
       "   A  B  C  D\n",
       "0  6  3  2  7\n",
       "1  2  8  0  5\n",
       "2  5  0  0  7\n",
       "3  0  3  1  8\n",
       "4  1  7  3  4"
      ]
     },
     "execution_count": 37,
     "metadata": {},
     "output_type": "execute_result"
    }
   ],
   "source": [
    "## Generate random dataset\n",
    "df = pd.DataFrame(np.random.randint(0,10,size=(5, 4)), columns=list('ABCD'))\n",
    "df.head()"
   ]
  },
  {
   "cell_type": "markdown",
   "id": "relevant-beads",
   "metadata": {},
   "source": [
    "\n",
    "We first start with plotting a simple line chart. After defining the figure p with title and coordinate labels, we can determine the three arguments in the line function: x, y, and data source. We can make our data visualization result more readable by adding the optional legend label and modifying the line color and width. After running the code, the default plot will be generated and displayed in a new HTML window. To use Bokeh with jupyter notebook, the user could also use the output_notebook() function from bokeh.io and the show() function to display the plot in Jupyter. The plot would have a side toolbar, where you can use the pan/drag tool along with the zoom tools such as box zoom and wheel zoom to explore the outcome plot. Users can further define the position of the toolbar in the plot code as well."
   ]
  },
  {
   "cell_type": "code",
   "execution_count": 38,
   "id": "interpreted-grove",
   "metadata": {},
   "outputs": [],
   "source": [
    "from bokeh.io import output_notebook"
   ]
  },
  {
   "cell_type": "code",
   "execution_count": 39,
   "id": "stunning-congress",
   "metadata": {},
   "outputs": [
    {
     "data": {
      "text/html": [
       "\n",
       "    <div class=\"bk-root\">\n",
       "        <a href=\"https://bokeh.org\" target=\"_blank\" class=\"bk-logo bk-logo-small bk-logo-notebook\"></a>\n",
       "        <span id=\"4224\">Loading BokehJS ...</span>\n",
       "    </div>"
      ]
     },
     "metadata": {},
     "output_type": "display_data"
    },
    {
     "data": {
      "application/javascript": [
       "\n",
       "(function(root) {\n",
       "  function now() {\n",
       "    return new Date();\n",
       "  }\n",
       "\n",
       "  const force = true;\n",
       "\n",
       "  if (typeof root._bokeh_onload_callbacks === \"undefined\" || force === true) {\n",
       "    root._bokeh_onload_callbacks = [];\n",
       "    root._bokeh_is_loading = undefined;\n",
       "  }\n",
       "\n",
       "  const JS_MIME_TYPE = 'application/javascript';\n",
       "  const HTML_MIME_TYPE = 'text/html';\n",
       "  const EXEC_MIME_TYPE = 'application/vnd.bokehjs_exec.v0+json';\n",
       "  const CLASS_NAME = 'output_bokeh rendered_html';\n",
       "\n",
       "  /**\n",
       "   * Render data to the DOM node\n",
       "   */\n",
       "  function render(props, node) {\n",
       "    const script = document.createElement(\"script\");\n",
       "    node.appendChild(script);\n",
       "  }\n",
       "\n",
       "  /**\n",
       "   * Handle when an output is cleared or removed\n",
       "   */\n",
       "  function handleClearOutput(event, handle) {\n",
       "    const cell = handle.cell;\n",
       "\n",
       "    const id = cell.output_area._bokeh_element_id;\n",
       "    const server_id = cell.output_area._bokeh_server_id;\n",
       "    // Clean up Bokeh references\n",
       "    if (id != null && id in Bokeh.index) {\n",
       "      Bokeh.index[id].model.document.clear();\n",
       "      delete Bokeh.index[id];\n",
       "    }\n",
       "\n",
       "    if (server_id !== undefined) {\n",
       "      // Clean up Bokeh references\n",
       "      const cmd_clean = \"from bokeh.io.state import curstate; print(curstate().uuid_to_server['\" + server_id + \"'].get_sessions()[0].document.roots[0]._id)\";\n",
       "      cell.notebook.kernel.execute(cmd_clean, {\n",
       "        iopub: {\n",
       "          output: function(msg) {\n",
       "            const id = msg.content.text.trim();\n",
       "            if (id in Bokeh.index) {\n",
       "              Bokeh.index[id].model.document.clear();\n",
       "              delete Bokeh.index[id];\n",
       "            }\n",
       "          }\n",
       "        }\n",
       "      });\n",
       "      // Destroy server and session\n",
       "      const cmd_destroy = \"import bokeh.io.notebook as ion; ion.destroy_server('\" + server_id + \"')\";\n",
       "      cell.notebook.kernel.execute(cmd_destroy);\n",
       "    }\n",
       "  }\n",
       "\n",
       "  /**\n",
       "   * Handle when a new output is added\n",
       "   */\n",
       "  function handleAddOutput(event, handle) {\n",
       "    const output_area = handle.output_area;\n",
       "    const output = handle.output;\n",
       "\n",
       "    // limit handleAddOutput to display_data with EXEC_MIME_TYPE content only\n",
       "    if ((output.output_type != \"display_data\") || (!Object.prototype.hasOwnProperty.call(output.data, EXEC_MIME_TYPE))) {\n",
       "      return\n",
       "    }\n",
       "\n",
       "    const toinsert = output_area.element.find(\".\" + CLASS_NAME.split(' ')[0]);\n",
       "\n",
       "    if (output.metadata[EXEC_MIME_TYPE][\"id\"] !== undefined) {\n",
       "      toinsert[toinsert.length - 1].firstChild.textContent = output.data[JS_MIME_TYPE];\n",
       "      // store reference to embed id on output_area\n",
       "      output_area._bokeh_element_id = output.metadata[EXEC_MIME_TYPE][\"id\"];\n",
       "    }\n",
       "    if (output.metadata[EXEC_MIME_TYPE][\"server_id\"] !== undefined) {\n",
       "      const bk_div = document.createElement(\"div\");\n",
       "      bk_div.innerHTML = output.data[HTML_MIME_TYPE];\n",
       "      const script_attrs = bk_div.children[0].attributes;\n",
       "      for (let i = 0; i < script_attrs.length; i++) {\n",
       "        toinsert[toinsert.length - 1].firstChild.setAttribute(script_attrs[i].name, script_attrs[i].value);\n",
       "        toinsert[toinsert.length - 1].firstChild.textContent = bk_div.children[0].textContent\n",
       "      }\n",
       "      // store reference to server id on output_area\n",
       "      output_area._bokeh_server_id = output.metadata[EXEC_MIME_TYPE][\"server_id\"];\n",
       "    }\n",
       "  }\n",
       "\n",
       "  function register_renderer(events, OutputArea) {\n",
       "\n",
       "    function append_mime(data, metadata, element) {\n",
       "      // create a DOM node to render to\n",
       "      const toinsert = this.create_output_subarea(\n",
       "        metadata,\n",
       "        CLASS_NAME,\n",
       "        EXEC_MIME_TYPE\n",
       "      );\n",
       "      this.keyboard_manager.register_events(toinsert);\n",
       "      // Render to node\n",
       "      const props = {data: data, metadata: metadata[EXEC_MIME_TYPE]};\n",
       "      render(props, toinsert[toinsert.length - 1]);\n",
       "      element.append(toinsert);\n",
       "      return toinsert\n",
       "    }\n",
       "\n",
       "    /* Handle when an output is cleared or removed */\n",
       "    events.on('clear_output.CodeCell', handleClearOutput);\n",
       "    events.on('delete.Cell', handleClearOutput);\n",
       "\n",
       "    /* Handle when a new output is added */\n",
       "    events.on('output_added.OutputArea', handleAddOutput);\n",
       "\n",
       "    /**\n",
       "     * Register the mime type and append_mime function with output_area\n",
       "     */\n",
       "    OutputArea.prototype.register_mime_type(EXEC_MIME_TYPE, append_mime, {\n",
       "      /* Is output safe? */\n",
       "      safe: true,\n",
       "      /* Index of renderer in `output_area.display_order` */\n",
       "      index: 0\n",
       "    });\n",
       "  }\n",
       "\n",
       "  // register the mime type if in Jupyter Notebook environment and previously unregistered\n",
       "  if (root.Jupyter !== undefined) {\n",
       "    const events = require('base/js/events');\n",
       "    const OutputArea = require('notebook/js/outputarea').OutputArea;\n",
       "\n",
       "    if (OutputArea.prototype.mime_types().indexOf(EXEC_MIME_TYPE) == -1) {\n",
       "      register_renderer(events, OutputArea);\n",
       "    }\n",
       "  }\n",
       "\n",
       "  \n",
       "  if (typeof (root._bokeh_timeout) === \"undefined\" || force === true) {\n",
       "    root._bokeh_timeout = Date.now() + 5000;\n",
       "    root._bokeh_failed_load = false;\n",
       "  }\n",
       "\n",
       "  const NB_LOAD_WARNING = {'data': {'text/html':\n",
       "     \"<div style='background-color: #fdd'>\\n\"+\n",
       "     \"<p>\\n\"+\n",
       "     \"BokehJS does not appear to have successfully loaded. If loading BokehJS from CDN, this \\n\"+\n",
       "     \"may be due to a slow or bad network connection. Possible fixes:\\n\"+\n",
       "     \"</p>\\n\"+\n",
       "     \"<ul>\\n\"+\n",
       "     \"<li>re-rerun `output_notebook()` to attempt to load from CDN again, or</li>\\n\"+\n",
       "     \"<li>use INLINE resources instead, as so:</li>\\n\"+\n",
       "     \"</ul>\\n\"+\n",
       "     \"<code>\\n\"+\n",
       "     \"from bokeh.resources import INLINE\\n\"+\n",
       "     \"output_notebook(resources=INLINE)\\n\"+\n",
       "     \"</code>\\n\"+\n",
       "     \"</div>\"}};\n",
       "\n",
       "  function display_loaded() {\n",
       "    const el = document.getElementById(\"4224\");\n",
       "    if (el != null) {\n",
       "      el.textContent = \"BokehJS is loading...\";\n",
       "    }\n",
       "    if (root.Bokeh !== undefined) {\n",
       "      if (el != null) {\n",
       "        el.textContent = \"BokehJS \" + root.Bokeh.version + \" successfully loaded.\";\n",
       "      }\n",
       "    } else if (Date.now() < root._bokeh_timeout) {\n",
       "      setTimeout(display_loaded, 100)\n",
       "    }\n",
       "  }\n",
       "\n",
       "\n",
       "  function run_callbacks() {\n",
       "    try {\n",
       "      root._bokeh_onload_callbacks.forEach(function(callback) {\n",
       "        if (callback != null)\n",
       "          callback();\n",
       "      });\n",
       "    } finally {\n",
       "      delete root._bokeh_onload_callbacks\n",
       "    }\n",
       "    console.debug(\"Bokeh: all callbacks have finished\");\n",
       "  }\n",
       "\n",
       "  function load_libs(css_urls, js_urls, callback) {\n",
       "    if (css_urls == null) css_urls = [];\n",
       "    if (js_urls == null) js_urls = [];\n",
       "\n",
       "    root._bokeh_onload_callbacks.push(callback);\n",
       "    if (root._bokeh_is_loading > 0) {\n",
       "      console.debug(\"Bokeh: BokehJS is being loaded, scheduling callback at\", now());\n",
       "      return null;\n",
       "    }\n",
       "    if (js_urls == null || js_urls.length === 0) {\n",
       "      run_callbacks();\n",
       "      return null;\n",
       "    }\n",
       "    console.debug(\"Bokeh: BokehJS not loaded, scheduling load and callback at\", now());\n",
       "    root._bokeh_is_loading = css_urls.length + js_urls.length;\n",
       "\n",
       "    function on_load() {\n",
       "      root._bokeh_is_loading--;\n",
       "      if (root._bokeh_is_loading === 0) {\n",
       "        console.debug(\"Bokeh: all BokehJS libraries/stylesheets loaded\");\n",
       "        run_callbacks()\n",
       "      }\n",
       "    }\n",
       "\n",
       "    function on_error(url) {\n",
       "      console.error(\"failed to load \" + url);\n",
       "    }\n",
       "\n",
       "    for (let i = 0; i < css_urls.length; i++) {\n",
       "      const url = css_urls[i];\n",
       "      const element = document.createElement(\"link\");\n",
       "      element.onload = on_load;\n",
       "      element.onerror = on_error.bind(null, url);\n",
       "      element.rel = \"stylesheet\";\n",
       "      element.type = \"text/css\";\n",
       "      element.href = url;\n",
       "      console.debug(\"Bokeh: injecting link tag for BokehJS stylesheet: \", url);\n",
       "      document.body.appendChild(element);\n",
       "    }\n",
       "\n",
       "    for (let i = 0; i < js_urls.length; i++) {\n",
       "      const url = js_urls[i];\n",
       "      const element = document.createElement('script');\n",
       "      element.onload = on_load;\n",
       "      element.onerror = on_error.bind(null, url);\n",
       "      element.async = false;\n",
       "      element.src = url;\n",
       "      console.debug(\"Bokeh: injecting script tag for BokehJS library: \", url);\n",
       "      document.head.appendChild(element);\n",
       "    }\n",
       "  };\n",
       "\n",
       "  function inject_raw_css(css) {\n",
       "    const element = document.createElement(\"style\");\n",
       "    element.appendChild(document.createTextNode(css));\n",
       "    document.body.appendChild(element);\n",
       "  }\n",
       "\n",
       "  \n",
       "  const js_urls = [\"https://cdn.bokeh.org/bokeh/release/bokeh-2.4.1.min.js\", \"https://cdn.bokeh.org/bokeh/release/bokeh-gl-2.4.1.min.js\", \"https://cdn.bokeh.org/bokeh/release/bokeh-widgets-2.4.1.min.js\", \"https://cdn.bokeh.org/bokeh/release/bokeh-tables-2.4.1.min.js\", \"https://cdn.bokeh.org/bokeh/release/bokeh-mathjax-2.4.1.min.js\"];\n",
       "  const css_urls = [];\n",
       "  \n",
       "\n",
       "  const inline_js = [\n",
       "    function(Bokeh) {\n",
       "      Bokeh.set_log_level(\"info\");\n",
       "    },\n",
       "    function(Bokeh) {\n",
       "    \n",
       "    \n",
       "    }\n",
       "  ];\n",
       "\n",
       "  function run_inline_js() {\n",
       "    \n",
       "    if (root.Bokeh !== undefined || force === true) {\n",
       "      \n",
       "    for (let i = 0; i < inline_js.length; i++) {\n",
       "      inline_js[i].call(root, root.Bokeh);\n",
       "    }\n",
       "    if (force === true) {\n",
       "        display_loaded();\n",
       "      }} else if (Date.now() < root._bokeh_timeout) {\n",
       "      setTimeout(run_inline_js, 100);\n",
       "    } else if (!root._bokeh_failed_load) {\n",
       "      console.log(\"Bokeh: BokehJS failed to load within specified timeout.\");\n",
       "      root._bokeh_failed_load = true;\n",
       "    } else if (force !== true) {\n",
       "      const cell = $(document.getElementById(\"4224\")).parents('.cell').data().cell;\n",
       "      cell.output_area.append_execute_result(NB_LOAD_WARNING)\n",
       "    }\n",
       "\n",
       "  }\n",
       "\n",
       "  if (root._bokeh_is_loading === 0) {\n",
       "    console.debug(\"Bokeh: BokehJS loaded, going straight to plotting\");\n",
       "    run_inline_js();\n",
       "  } else {\n",
       "    load_libs(css_urls, js_urls, function() {\n",
       "      console.debug(\"Bokeh: BokehJS plotting callback run at\", now());\n",
       "      run_inline_js();\n",
       "    });\n",
       "  }\n",
       "}(window));"
      ],
      "application/vnd.bokehjs_load.v0+json": "\n(function(root) {\n  function now() {\n    return new Date();\n  }\n\n  const force = true;\n\n  if (typeof root._bokeh_onload_callbacks === \"undefined\" || force === true) {\n    root._bokeh_onload_callbacks = [];\n    root._bokeh_is_loading = undefined;\n  }\n\n  \n\n  \n  if (typeof (root._bokeh_timeout) === \"undefined\" || force === true) {\n    root._bokeh_timeout = Date.now() + 5000;\n    root._bokeh_failed_load = false;\n  }\n\n  const NB_LOAD_WARNING = {'data': {'text/html':\n     \"<div style='background-color: #fdd'>\\n\"+\n     \"<p>\\n\"+\n     \"BokehJS does not appear to have successfully loaded. If loading BokehJS from CDN, this \\n\"+\n     \"may be due to a slow or bad network connection. Possible fixes:\\n\"+\n     \"</p>\\n\"+\n     \"<ul>\\n\"+\n     \"<li>re-rerun `output_notebook()` to attempt to load from CDN again, or</li>\\n\"+\n     \"<li>use INLINE resources instead, as so:</li>\\n\"+\n     \"</ul>\\n\"+\n     \"<code>\\n\"+\n     \"from bokeh.resources import INLINE\\n\"+\n     \"output_notebook(resources=INLINE)\\n\"+\n     \"</code>\\n\"+\n     \"</div>\"}};\n\n  function display_loaded() {\n    const el = document.getElementById(\"4224\");\n    if (el != null) {\n      el.textContent = \"BokehJS is loading...\";\n    }\n    if (root.Bokeh !== undefined) {\n      if (el != null) {\n        el.textContent = \"BokehJS \" + root.Bokeh.version + \" successfully loaded.\";\n      }\n    } else if (Date.now() < root._bokeh_timeout) {\n      setTimeout(display_loaded, 100)\n    }\n  }\n\n\n  function run_callbacks() {\n    try {\n      root._bokeh_onload_callbacks.forEach(function(callback) {\n        if (callback != null)\n          callback();\n      });\n    } finally {\n      delete root._bokeh_onload_callbacks\n    }\n    console.debug(\"Bokeh: all callbacks have finished\");\n  }\n\n  function load_libs(css_urls, js_urls, callback) {\n    if (css_urls == null) css_urls = [];\n    if (js_urls == null) js_urls = [];\n\n    root._bokeh_onload_callbacks.push(callback);\n    if (root._bokeh_is_loading > 0) {\n      console.debug(\"Bokeh: BokehJS is being loaded, scheduling callback at\", now());\n      return null;\n    }\n    if (js_urls == null || js_urls.length === 0) {\n      run_callbacks();\n      return null;\n    }\n    console.debug(\"Bokeh: BokehJS not loaded, scheduling load and callback at\", now());\n    root._bokeh_is_loading = css_urls.length + js_urls.length;\n\n    function on_load() {\n      root._bokeh_is_loading--;\n      if (root._bokeh_is_loading === 0) {\n        console.debug(\"Bokeh: all BokehJS libraries/stylesheets loaded\");\n        run_callbacks()\n      }\n    }\n\n    function on_error(url) {\n      console.error(\"failed to load \" + url);\n    }\n\n    for (let i = 0; i < css_urls.length; i++) {\n      const url = css_urls[i];\n      const element = document.createElement(\"link\");\n      element.onload = on_load;\n      element.onerror = on_error.bind(null, url);\n      element.rel = \"stylesheet\";\n      element.type = \"text/css\";\n      element.href = url;\n      console.debug(\"Bokeh: injecting link tag for BokehJS stylesheet: \", url);\n      document.body.appendChild(element);\n    }\n\n    for (let i = 0; i < js_urls.length; i++) {\n      const url = js_urls[i];\n      const element = document.createElement('script');\n      element.onload = on_load;\n      element.onerror = on_error.bind(null, url);\n      element.async = false;\n      element.src = url;\n      console.debug(\"Bokeh: injecting script tag for BokehJS library: \", url);\n      document.head.appendChild(element);\n    }\n  };\n\n  function inject_raw_css(css) {\n    const element = document.createElement(\"style\");\n    element.appendChild(document.createTextNode(css));\n    document.body.appendChild(element);\n  }\n\n  \n  const js_urls = [\"https://cdn.bokeh.org/bokeh/release/bokeh-2.4.1.min.js\", \"https://cdn.bokeh.org/bokeh/release/bokeh-gl-2.4.1.min.js\", \"https://cdn.bokeh.org/bokeh/release/bokeh-widgets-2.4.1.min.js\", \"https://cdn.bokeh.org/bokeh/release/bokeh-tables-2.4.1.min.js\", \"https://cdn.bokeh.org/bokeh/release/bokeh-mathjax-2.4.1.min.js\"];\n  const css_urls = [];\n  \n\n  const inline_js = [\n    function(Bokeh) {\n      Bokeh.set_log_level(\"info\");\n    },\n    function(Bokeh) {\n    \n    \n    }\n  ];\n\n  function run_inline_js() {\n    \n    if (root.Bokeh !== undefined || force === true) {\n      \n    for (let i = 0; i < inline_js.length; i++) {\n      inline_js[i].call(root, root.Bokeh);\n    }\n    if (force === true) {\n        display_loaded();\n      }} else if (Date.now() < root._bokeh_timeout) {\n      setTimeout(run_inline_js, 100);\n    } else if (!root._bokeh_failed_load) {\n      console.log(\"Bokeh: BokehJS failed to load within specified timeout.\");\n      root._bokeh_failed_load = true;\n    } else if (force !== true) {\n      const cell = $(document.getElementById(\"4224\")).parents('.cell').data().cell;\n      cell.output_area.append_execute_result(NB_LOAD_WARNING)\n    }\n\n  }\n\n  if (root._bokeh_is_loading === 0) {\n    console.debug(\"Bokeh: BokehJS loaded, going straight to plotting\");\n    run_inline_js();\n  } else {\n    load_libs(css_urls, js_urls, function() {\n      console.debug(\"Bokeh: BokehJS plotting callback run at\", now());\n      run_inline_js();\n    });\n  }\n}(window));"
     },
     "metadata": {},
     "output_type": "display_data"
    }
   ],
   "source": [
    "output_notebook()"
   ]
  },
  {
   "cell_type": "code",
   "execution_count": 40,
   "id": "portable-cocktail",
   "metadata": {},
   "outputs": [
    {
     "data": {
      "text/html": [
       "\n",
       "\n",
       "\n",
       "\n",
       "\n",
       "\n",
       "  <div class=\"bk-root\" id=\"402a7db8-172b-4de2-af2d-dba65600040e\" data-root-id=\"4225\"></div>\n"
      ]
     },
     "metadata": {},
     "output_type": "display_data"
    },
    {
     "data": {
      "application/javascript": [
       "(function(root) {\n",
       "  function embed_document(root) {\n",
       "    \n",
       "  const docs_json = {\"29e122a2-53f8-464c-9573-21450b699481\":{\"defs\":[],\"roots\":{\"references\":[{\"attributes\":{\"below\":[{\"id\":\"4236\"}],\"center\":[{\"id\":\"4239\"},{\"id\":\"4243\"},{\"id\":\"4275\"}],\"left\":[{\"id\":\"4240\"}],\"renderers\":[{\"id\":\"4263\"},{\"id\":\"4282\"},{\"id\":\"4302\"}],\"title\":{\"id\":\"4226\"},\"toolbar\":{\"id\":\"4251\"},\"toolbar_sticky\":false,\"x_range\":{\"id\":\"4228\"},\"x_scale\":{\"id\":\"4232\"},\"y_range\":{\"id\":\"4230\"},\"y_scale\":{\"id\":\"4234\"}},\"id\":\"4225\",\"subtype\":\"Figure\",\"type\":\"Plot\"},{\"attributes\":{},\"id\":\"4294\",\"type\":\"Selection\"},{\"attributes\":{\"overlay\":{\"id\":\"4250\"}},\"id\":\"4246\",\"type\":\"BoxZoomTool\"},{\"attributes\":{\"line_alpha\":0.1,\"line_color\":\"red\",\"line_width\":2,\"x\":{\"field\":\"A\"},\"y\":{\"field\":\"C\"}},\"id\":\"4280\",\"type\":\"Line\"},{\"attributes\":{\"source\":{\"id\":\"4258\"}},\"id\":\"4264\",\"type\":\"CDSView\"},{\"attributes\":{\"tools\":[{\"id\":\"4244\"},{\"id\":\"4245\"},{\"id\":\"4246\"},{\"id\":\"4247\"},{\"id\":\"4248\"},{\"id\":\"4249\"}]},\"id\":\"4251\",\"type\":\"Toolbar\"},{\"attributes\":{\"coordinates\":null,\"data_source\":{\"id\":\"4258\"},\"glyph\":{\"id\":\"4260\"},\"group\":null,\"hover_glyph\":null,\"muted_glyph\":{\"id\":\"4262\"},\"nonselection_glyph\":{\"id\":\"4261\"},\"view\":{\"id\":\"4264\"}},\"id\":\"4263\",\"type\":\"GlyphRenderer\"},{\"attributes\":{},\"id\":\"4228\",\"type\":\"DataRange1d\"},{\"attributes\":{},\"id\":\"4248\",\"type\":\"ResetTool\"},{\"attributes\":{},\"id\":\"4249\",\"type\":\"HelpTool\"},{\"attributes\":{\"line_color\":\"red\",\"line_width\":2,\"x\":{\"field\":\"A\"},\"y\":{\"field\":\"C\"}},\"id\":\"4279\",\"type\":\"Line\"},{\"attributes\":{\"line_alpha\":0.2,\"line_color\":\"blue\",\"line_width\":2,\"x\":{\"field\":\"A\"},\"y\":{\"field\":\"B\"}},\"id\":\"4262\",\"type\":\"Line\"},{\"attributes\":{\"line_color\":\"green\",\"line_width\":2,\"x\":{\"field\":\"A\"},\"y\":{\"field\":\"D\"}},\"id\":\"4299\",\"type\":\"Line\"},{\"attributes\":{},\"id\":\"4244\",\"type\":\"PanTool\"},{\"attributes\":{\"source\":{\"id\":\"4277\"}},\"id\":\"4283\",\"type\":\"CDSView\"},{\"attributes\":{},\"id\":\"4268\",\"type\":\"AllLabels\"},{\"attributes\":{\"data\":{\"A\":[6,2,5,0,1],\"B\":[3,8,0,3,7],\"C\":[2,0,0,1,3],\"D\":[7,5,7,8,4],\"index\":[0,1,2,3,4]},\"selected\":{\"id\":\"4316\"},\"selection_policy\":{\"id\":\"4315\"}},\"id\":\"4297\",\"type\":\"ColumnDataSource\"},{\"attributes\":{\"label\":{\"value\":\"A vs D\"},\"renderers\":[{\"id\":\"4302\"}]},\"id\":\"4318\",\"type\":\"LegendItem\"},{\"attributes\":{\"line_alpha\":0.1,\"line_color\":\"blue\",\"line_width\":2,\"x\":{\"field\":\"A\"},\"y\":{\"field\":\"B\"}},\"id\":\"4261\",\"type\":\"Line\"},{\"attributes\":{\"data\":{\"A\":[6,2,5,0,1],\"B\":[3,8,0,3,7],\"C\":[2,0,0,1,3],\"D\":[7,5,7,8,4],\"index\":[0,1,2,3,4]},\"selected\":{\"id\":\"4294\"},\"selection_policy\":{\"id\":\"4293\"}},\"id\":\"4277\",\"type\":\"ColumnDataSource\"},{\"attributes\":{\"coordinates\":null,\"data_source\":{\"id\":\"4277\"},\"glyph\":{\"id\":\"4279\"},\"group\":null,\"hover_glyph\":null,\"muted_glyph\":{\"id\":\"4281\"},\"nonselection_glyph\":{\"id\":\"4280\"},\"view\":{\"id\":\"4283\"}},\"id\":\"4282\",\"type\":\"GlyphRenderer\"},{\"attributes\":{},\"id\":\"4230\",\"type\":\"DataRange1d\"},{\"attributes\":{\"data\":{\"A\":[6,2,5,0,1],\"B\":[3,8,0,3,7],\"C\":[2,0,0,1,3],\"D\":[7,5,7,8,4],\"index\":[0,1,2,3,4]},\"selected\":{\"id\":\"4273\"},\"selection_policy\":{\"id\":\"4272\"}},\"id\":\"4258\",\"type\":\"ColumnDataSource\"},{\"attributes\":{},\"id\":\"4247\",\"type\":\"SaveTool\"},{\"attributes\":{\"axis_label\":\"X axis\",\"coordinates\":null,\"formatter\":{\"id\":\"4270\"},\"group\":null,\"major_label_policy\":{\"id\":\"4271\"},\"ticker\":{\"id\":\"4237\"}},\"id\":\"4236\",\"type\":\"LinearAxis\"},{\"attributes\":{},\"id\":\"4271\",\"type\":\"AllLabels\"},{\"attributes\":{},\"id\":\"4232\",\"type\":\"LinearScale\"},{\"attributes\":{},\"id\":\"4315\",\"type\":\"UnionRenderers\"},{\"attributes\":{},\"id\":\"4273\",\"type\":\"Selection\"},{\"attributes\":{},\"id\":\"4241\",\"type\":\"BasicTicker\"},{\"attributes\":{\"label\":{\"value\":\"A vs C\"},\"renderers\":[{\"id\":\"4282\"}]},\"id\":\"4296\",\"type\":\"LegendItem\"},{\"attributes\":{},\"id\":\"4272\",\"type\":\"UnionRenderers\"},{\"attributes\":{\"line_alpha\":0.2,\"line_color\":\"red\",\"line_width\":2,\"x\":{\"field\":\"A\"},\"y\":{\"field\":\"C\"}},\"id\":\"4281\",\"type\":\"Line\"},{\"attributes\":{\"axis\":{\"id\":\"4240\"},\"coordinates\":null,\"dimension\":1,\"group\":null,\"ticker\":null},\"id\":\"4243\",\"type\":\"Grid\"},{\"attributes\":{},\"id\":\"4245\",\"type\":\"WheelZoomTool\"},{\"attributes\":{},\"id\":\"4316\",\"type\":\"Selection\"},{\"attributes\":{\"line_alpha\":0.1,\"line_color\":\"green\",\"line_width\":2,\"x\":{\"field\":\"A\"},\"y\":{\"field\":\"D\"}},\"id\":\"4300\",\"type\":\"Line\"},{\"attributes\":{},\"id\":\"4293\",\"type\":\"UnionRenderers\"},{\"attributes\":{\"axis\":{\"id\":\"4236\"},\"coordinates\":null,\"group\":null,\"ticker\":null},\"id\":\"4239\",\"type\":\"Grid\"},{\"attributes\":{\"line_alpha\":0.2,\"line_color\":\"green\",\"line_width\":2,\"x\":{\"field\":\"A\"},\"y\":{\"field\":\"D\"}},\"id\":\"4301\",\"type\":\"Line\"},{\"attributes\":{\"bottom_units\":\"screen\",\"coordinates\":null,\"fill_alpha\":0.5,\"fill_color\":\"lightgrey\",\"group\":null,\"left_units\":\"screen\",\"level\":\"overlay\",\"line_alpha\":1.0,\"line_color\":\"black\",\"line_dash\":[4,4],\"line_width\":2,\"right_units\":\"screen\",\"syncable\":false,\"top_units\":\"screen\"},\"id\":\"4250\",\"type\":\"BoxAnnotation\"},{\"attributes\":{\"label\":{\"value\":\"A vs B\"},\"renderers\":[{\"id\":\"4263\"}]},\"id\":\"4276\",\"type\":\"LegendItem\"},{\"attributes\":{},\"id\":\"4270\",\"type\":\"BasicTickFormatter\"},{\"attributes\":{\"coordinates\":null,\"group\":null,\"text\":\"Line Chart Example\"},\"id\":\"4226\",\"type\":\"Title\"},{\"attributes\":{},\"id\":\"4234\",\"type\":\"LinearScale\"},{\"attributes\":{},\"id\":\"4267\",\"type\":\"BasicTickFormatter\"},{\"attributes\":{},\"id\":\"4237\",\"type\":\"BasicTicker\"},{\"attributes\":{\"source\":{\"id\":\"4297\"}},\"id\":\"4303\",\"type\":\"CDSView\"},{\"attributes\":{\"coordinates\":null,\"data_source\":{\"id\":\"4297\"},\"glyph\":{\"id\":\"4299\"},\"group\":null,\"hover_glyph\":null,\"muted_glyph\":{\"id\":\"4301\"},\"nonselection_glyph\":{\"id\":\"4300\"},\"view\":{\"id\":\"4303\"}},\"id\":\"4302\",\"type\":\"GlyphRenderer\"},{\"attributes\":{\"line_color\":\"blue\",\"line_width\":2,\"x\":{\"field\":\"A\"},\"y\":{\"field\":\"B\"}},\"id\":\"4260\",\"type\":\"Line\"},{\"attributes\":{\"axis_label\":\"Y axis\",\"coordinates\":null,\"formatter\":{\"id\":\"4267\"},\"group\":null,\"major_label_policy\":{\"id\":\"4268\"},\"ticker\":{\"id\":\"4241\"}},\"id\":\"4240\",\"type\":\"LinearAxis\"},{\"attributes\":{\"coordinates\":null,\"group\":null,\"items\":[{\"id\":\"4276\"},{\"id\":\"4296\"},{\"id\":\"4318\"}]},\"id\":\"4275\",\"type\":\"Legend\"}],\"root_ids\":[\"4225\"]},\"title\":\"Bokeh Application\",\"version\":\"2.4.1\"}};\n",
       "  const render_items = [{\"docid\":\"29e122a2-53f8-464c-9573-21450b699481\",\"root_ids\":[\"4225\"],\"roots\":{\"4225\":\"402a7db8-172b-4de2-af2d-dba65600040e\"}}];\n",
       "  root.Bokeh.embed.embed_items_notebook(docs_json, render_items);\n",
       "\n",
       "  }\n",
       "  if (root.Bokeh !== undefined) {\n",
       "    embed_document(root);\n",
       "  } else {\n",
       "    let attempts = 0;\n",
       "    const timer = setInterval(function(root) {\n",
       "      if (root.Bokeh !== undefined) {\n",
       "        clearInterval(timer);\n",
       "        embed_document(root);\n",
       "      } else {\n",
       "        attempts++;\n",
       "        if (attempts > 100) {\n",
       "          clearInterval(timer);\n",
       "          console.log(\"Bokeh: ERROR: Unable to run BokehJS code because BokehJS library is missing\");\n",
       "        }\n",
       "      }\n",
       "    }, 10, root)\n",
       "  }\n",
       "})(window);"
      ],
      "application/vnd.bokehjs_exec.v0+json": ""
     },
     "metadata": {
      "application/vnd.bokehjs_exec.v0+json": {
       "id": "4225"
      }
     },
     "output_type": "display_data"
    }
   ],
   "source": [
    "from bokeh.plotting import figure, show\n",
    "# create a new plot with a title and axis labels\n",
    "p = figure(title=\"Line Chart Example\", x_axis_label=\"X axis\", y_axis_label=\"Y axis\",\n",
    "           toolbar_location=\"right\",\n",
    "           toolbar_sticky=False)\n",
    "\n",
    "# add a line renderer with legend and line thickness\n",
    "p.line('A', 'B', legend_label=\"A vs B\",line_color = 'blue', line_width=2,source = df)\n",
    "# add multiple line\n",
    "p.line('A', 'C', legend_label=\"A vs C\", line_color=\"red\", line_width=2,source = df)\n",
    "p.line('A', 'D', legend_label=\"A vs D\", line_color=\"green\", line_width=2,source = df)\n",
    "# show the results\n",
    "show(p)"
   ]
  },
  {
   "cell_type": "markdown",
   "id": "bacterial-extraction",
   "metadata": {},
   "source": [
    "## Renderer with glyphs"
   ]
  },
  {
   "cell_type": "markdown",
   "id": "significant-colombia",
   "metadata": {},
   "source": [
    "We can further add other renders to our line plot with Bokeh. Bokeh supported many different kinds of glyphs such as circles, bars, and hex tiles. We would give a brief introduction to rendering with Bokeh. In the demo code, we showed the codes for plotting a variety of glyphs, including circle plots, bar plots, and hexbin plots. Users can also alter the properties of the plots after creating the plot by overwriting the glpyth plot."
   ]
  },
  {
   "cell_type": "code",
   "execution_count": 55,
   "id": "light-advertising",
   "metadata": {},
   "outputs": [
    {
     "data": {
      "text/html": [
       "\n",
       "\n",
       "\n",
       "\n",
       "\n",
       "\n",
       "  <div class=\"bk-root\" id=\"7e7551b7-177d-4a92-8173-8e97f38b320b\" data-root-id=\"7577\"></div>\n"
      ]
     },
     "metadata": {},
     "output_type": "display_data"
    },
    {
     "data": {
      "application/javascript": [
       "(function(root) {\n",
       "  function embed_document(root) {\n",
       "    \n",
       "  const docs_json = {\"8a535a5c-6eae-4ba1-95e6-fe115549f24d\":{\"defs\":[],\"roots\":{\"references\":[{\"attributes\":{\"below\":[{\"id\":\"7588\"}],\"center\":[{\"id\":\"7591\"},{\"id\":\"7595\"},{\"id\":\"7627\"}],\"left\":[{\"id\":\"7592\"}],\"renderers\":[{\"id\":\"7615\"},{\"id\":\"7634\"},{\"id\":\"7654\"}],\"title\":{\"id\":\"7578\"},\"toolbar\":{\"id\":\"7603\"},\"x_range\":{\"id\":\"7580\"},\"x_scale\":{\"id\":\"7584\"},\"y_range\":{\"id\":\"7582\"},\"y_scale\":{\"id\":\"7586\"}},\"id\":\"7577\",\"subtype\":\"Figure\",\"type\":\"Plot\"},{\"attributes\":{},\"id\":\"7593\",\"type\":\"BasicTicker\"},{\"attributes\":{\"axis\":{\"id\":\"7592\"},\"coordinates\":null,\"dimension\":1,\"group\":null,\"ticker\":null},\"id\":\"7595\",\"type\":\"Grid\"},{\"attributes\":{\"axis_label\":\"Y axis\",\"coordinates\":null,\"formatter\":{\"id\":\"7619\"},\"group\":null,\"major_label_policy\":{\"id\":\"7620\"},\"ticker\":{\"id\":\"7593\"}},\"id\":\"7592\",\"type\":\"LinearAxis\"},{\"attributes\":{\"coordinates\":null,\"group\":null,\"items\":[{\"id\":\"7628\"},{\"id\":\"7648\"},{\"id\":\"7670\"}]},\"id\":\"7627\",\"type\":\"Legend\"},{\"attributes\":{\"label\":{\"value\":\"line chart\"},\"renderers\":[{\"id\":\"7615\"}]},\"id\":\"7628\",\"type\":\"LegendItem\"},{\"attributes\":{},\"id\":\"7589\",\"type\":\"BasicTicker\"},{\"attributes\":{},\"id\":\"7580\",\"type\":\"DataRange1d\"},{\"attributes\":{\"source\":{\"id\":\"7649\"}},\"id\":\"7655\",\"type\":\"CDSView\"},{\"attributes\":{\"fill_color\":{\"value\":\"#1f77b4\"},\"line_color\":{\"value\":\"yellow\"},\"size\":{\"value\":12},\"x\":{\"field\":\"A\"},\"y\":{\"field\":\"B\"}},\"id\":\"7631\",\"type\":\"Circle\"},{\"attributes\":{\"axis\":{\"id\":\"7588\"},\"coordinates\":null,\"group\":null,\"ticker\":null},\"id\":\"7591\",\"type\":\"Grid\"},{\"attributes\":{},\"id\":\"7624\",\"type\":\"UnionRenderers\"},{\"attributes\":{\"line_color\":\"blue\",\"line_width\":2,\"x\":{\"field\":\"A\"},\"y\":{\"field\":\"B\"}},\"id\":\"7612\",\"type\":\"Line\"},{\"attributes\":{\"data\":{\"A\":[6,2,5,0,1],\"B\":[3,8,0,3,7],\"C\":[2,0,0,1,3],\"D\":[7,5,7,8,4],\"index\":[0,1,2,3,4]},\"selected\":{\"id\":\"7625\"},\"selection_policy\":{\"id\":\"7624\"}},\"id\":\"7610\",\"type\":\"ColumnDataSource\"},{\"attributes\":{},\"id\":\"7625\",\"type\":\"Selection\"},{\"attributes\":{\"line_alpha\":0.2,\"line_color\":\"blue\",\"line_width\":2,\"x\":{\"field\":\"A\"},\"y\":{\"field\":\"B\"}},\"id\":\"7614\",\"type\":\"Line\"},{\"attributes\":{},\"id\":\"7596\",\"type\":\"PanTool\"},{\"attributes\":{\"overlay\":{\"id\":\"7602\"}},\"id\":\"7598\",\"type\":\"BoxZoomTool\"},{\"attributes\":{},\"id\":\"7599\",\"type\":\"SaveTool\"},{\"attributes\":{},\"id\":\"7600\",\"type\":\"ResetTool\"},{\"attributes\":{\"tools\":[{\"id\":\"7596\"},{\"id\":\"7597\"},{\"id\":\"7598\"},{\"id\":\"7599\"},{\"id\":\"7600\"},{\"id\":\"7601\"}]},\"id\":\"7603\",\"type\":\"Toolbar\"},{\"attributes\":{\"data\":{\"A\":[6,2,5,0,1],\"B\":[3,8,0,3,7],\"C\":[2,0,0,1,3],\"D\":[7,5,7,8,4],\"index\":[0,1,2,3,4]},\"selected\":{\"id\":\"7668\"},\"selection_policy\":{\"id\":\"7667\"}},\"id\":\"7649\",\"type\":\"ColumnDataSource\"},{\"attributes\":{\"bottom_units\":\"screen\",\"coordinates\":null,\"fill_alpha\":0.5,\"fill_color\":\"lightgrey\",\"group\":null,\"left_units\":\"screen\",\"level\":\"overlay\",\"line_alpha\":1.0,\"line_color\":\"black\",\"line_dash\":[4,4],\"line_width\":2,\"right_units\":\"screen\",\"syncable\":false,\"top_units\":\"screen\"},\"id\":\"7602\",\"type\":\"BoxAnnotation\"},{\"attributes\":{\"fill_alpha\":{\"value\":0.1},\"fill_color\":{\"value\":\"red\"},\"hatch_alpha\":{\"value\":0.1},\"hatch_color\":{\"value\":\"red\"},\"line_alpha\":{\"value\":0.1},\"line_color\":{\"value\":\"red\"},\"top\":{\"field\":\"B\"},\"width\":{\"value\":0.5},\"x\":{\"field\":\"A\"}},\"id\":\"7652\",\"type\":\"VBar\"},{\"attributes\":{},\"id\":\"7601\",\"type\":\"HelpTool\"},{\"attributes\":{\"coordinates\":null,\"data_source\":{\"id\":\"7610\"},\"glyph\":{\"id\":\"7612\"},\"group\":null,\"hover_glyph\":null,\"muted_glyph\":{\"id\":\"7614\"},\"nonselection_glyph\":{\"id\":\"7613\"},\"view\":{\"id\":\"7616\"}},\"id\":\"7615\",\"type\":\"GlyphRenderer\"},{\"attributes\":{\"coordinates\":null,\"data_source\":{\"id\":\"7629\"},\"glyph\":{\"id\":\"7631\"},\"group\":null,\"hover_glyph\":null,\"muted_glyph\":{\"id\":\"7633\"},\"nonselection_glyph\":{\"id\":\"7632\"},\"view\":{\"id\":\"7635\"}},\"id\":\"7634\",\"type\":\"GlyphRenderer\"},{\"attributes\":{\"line_alpha\":0.1,\"line_color\":\"blue\",\"line_width\":2,\"x\":{\"field\":\"A\"},\"y\":{\"field\":\"B\"}},\"id\":\"7613\",\"type\":\"Line\"},{\"attributes\":{\"label\":{\"value\":\"vbar\"},\"renderers\":[{\"id\":\"7654\"}]},\"id\":\"7670\",\"type\":\"LegendItem\"},{\"attributes\":{\"label\":{\"value\":\"circle plot\"},\"renderers\":[{\"id\":\"7634\"}]},\"id\":\"7648\",\"type\":\"LegendItem\"},{\"attributes\":{},\"id\":\"7597\",\"type\":\"WheelZoomTool\"},{\"attributes\":{},\"id\":\"7667\",\"type\":\"UnionRenderers\"},{\"attributes\":{\"fill_alpha\":{\"value\":0.1},\"fill_color\":{\"value\":\"#1f77b4\"},\"hatch_alpha\":{\"value\":0.1},\"line_alpha\":{\"value\":0.1},\"line_color\":{\"value\":\"yellow\"},\"size\":{\"value\":12},\"x\":{\"field\":\"A\"},\"y\":{\"field\":\"B\"}},\"id\":\"7632\",\"type\":\"Circle\"},{\"attributes\":{\"fill_alpha\":{\"value\":0.2},\"fill_color\":{\"value\":\"red\"},\"hatch_alpha\":{\"value\":0.2},\"hatch_color\":{\"value\":\"red\"},\"line_alpha\":{\"value\":0.2},\"line_color\":{\"value\":\"red\"},\"top\":{\"field\":\"B\"},\"width\":{\"value\":0.5},\"x\":{\"field\":\"A\"}},\"id\":\"7653\",\"type\":\"VBar\"},{\"attributes\":{},\"id\":\"7582\",\"type\":\"DataRange1d\"},{\"attributes\":{\"fill_alpha\":{\"value\":0.2},\"fill_color\":{\"value\":\"#1f77b4\"},\"hatch_alpha\":{\"value\":0.2},\"line_alpha\":{\"value\":0.2},\"line_color\":{\"value\":\"yellow\"},\"size\":{\"value\":12},\"x\":{\"field\":\"A\"},\"y\":{\"field\":\"B\"}},\"id\":\"7633\",\"type\":\"Circle\"},{\"attributes\":{\"fill_alpha\":{\"value\":0.5},\"fill_color\":{\"value\":\"red\"},\"hatch_alpha\":{\"value\":0.5},\"hatch_color\":{\"value\":\"red\"},\"line_alpha\":{\"value\":0.5},\"line_color\":{\"value\":\"red\"},\"top\":{\"field\":\"B\"},\"width\":{\"value\":0.5},\"x\":{\"field\":\"A\"}},\"id\":\"7651\",\"type\":\"VBar\"},{\"attributes\":{},\"id\":\"7619\",\"type\":\"BasicTickFormatter\"},{\"attributes\":{\"coordinates\":null,\"group\":null,\"text\":\"glyph plot example\"},\"id\":\"7578\",\"type\":\"Title\"},{\"attributes\":{\"coordinates\":null,\"data_source\":{\"id\":\"7649\"},\"glyph\":{\"id\":\"7651\"},\"group\":null,\"hover_glyph\":null,\"muted_glyph\":{\"id\":\"7653\"},\"nonselection_glyph\":{\"id\":\"7652\"},\"view\":{\"id\":\"7655\"}},\"id\":\"7654\",\"type\":\"GlyphRenderer\"},{\"attributes\":{},\"id\":\"7584\",\"type\":\"LinearScale\"},{\"attributes\":{\"axis_label\":\"X axis\",\"coordinates\":null,\"formatter\":{\"id\":\"7622\"},\"group\":null,\"major_label_policy\":{\"id\":\"7623\"},\"ticker\":{\"id\":\"7589\"}},\"id\":\"7588\",\"type\":\"LinearAxis\"},{\"attributes\":{},\"id\":\"7620\",\"type\":\"AllLabels\"},{\"attributes\":{},\"id\":\"7646\",\"type\":\"Selection\"},{\"attributes\":{},\"id\":\"7668\",\"type\":\"Selection\"},{\"attributes\":{},\"id\":\"7586\",\"type\":\"LinearScale\"},{\"attributes\":{\"data\":{\"A\":[6,2,5,0,1],\"B\":[3,8,0,3,7],\"C\":[2,0,0,1,3],\"D\":[7,5,7,8,4],\"index\":[0,1,2,3,4]},\"selected\":{\"id\":\"7646\"},\"selection_policy\":{\"id\":\"7645\"}},\"id\":\"7629\",\"type\":\"ColumnDataSource\"},{\"attributes\":{\"source\":{\"id\":\"7629\"}},\"id\":\"7635\",\"type\":\"CDSView\"},{\"attributes\":{},\"id\":\"7622\",\"type\":\"BasicTickFormatter\"},{\"attributes\":{},\"id\":\"7645\",\"type\":\"UnionRenderers\"},{\"attributes\":{\"source\":{\"id\":\"7610\"}},\"id\":\"7616\",\"type\":\"CDSView\"},{\"attributes\":{},\"id\":\"7623\",\"type\":\"AllLabels\"}],\"root_ids\":[\"7577\"]},\"title\":\"Bokeh Application\",\"version\":\"2.4.1\"}};\n",
       "  const render_items = [{\"docid\":\"8a535a5c-6eae-4ba1-95e6-fe115549f24d\",\"root_ids\":[\"7577\"],\"roots\":{\"7577\":\"7e7551b7-177d-4a92-8173-8e97f38b320b\"}}];\n",
       "  root.Bokeh.embed.embed_items_notebook(docs_json, render_items);\n",
       "\n",
       "  }\n",
       "  if (root.Bokeh !== undefined) {\n",
       "    embed_document(root);\n",
       "  } else {\n",
       "    let attempts = 0;\n",
       "    const timer = setInterval(function(root) {\n",
       "      if (root.Bokeh !== undefined) {\n",
       "        clearInterval(timer);\n",
       "        embed_document(root);\n",
       "      } else {\n",
       "        attempts++;\n",
       "        if (attempts > 100) {\n",
       "          clearInterval(timer);\n",
       "          console.log(\"Bokeh: ERROR: Unable to run BokehJS code because BokehJS library is missing\");\n",
       "        }\n",
       "      }\n",
       "    }, 10, root)\n",
       "  }\n",
       "})(window);"
      ],
      "application/vnd.bokehjs_exec.v0+json": ""
     },
     "metadata": {
      "application/vnd.bokehjs_exec.v0+json": {
       "id": "7577"
      }
     },
     "output_type": "display_data"
    }
   ],
   "source": [
    "# create a new plot with a mix of line chart, scatter plot and bar plot\n",
    "p = figure(title=\"glyph plot example\", x_axis_label=\"X axis\", y_axis_label=\"Y axis\")\n",
    "# add a line renderer with legend and line thickness\n",
    "line = p.line('A', 'B', \n",
    "       legend_label=\"line chart\",line_color = 'blue', line_width=2,source = df)\n",
    "circle = p.circle('A', 'B', \n",
    "         legend_label=\"circle plot\", line_color=\"yellow\", size=12,\n",
    "         source = df)\n",
    "vbar = p.vbar(x='A', top='B', \n",
    "       legend_label=\"vbar\", width=0.5, bottom=0, color=\"red\",\n",
    "       source = df,alpha = 0.5)\n",
    "# change property of existing glyphs after defining the plot\n",
    "glyph = circle.glyph\n",
    "glyph.fill_color = 'blue'\n",
    "show(p)"
   ]
  },
  {
   "cell_type": "markdown",
   "id": "charming-cyprus",
   "metadata": {},
   "source": [
    "## Customer the plot appearance"
   ]
  },
  {
   "cell_type": "markdown",
   "id": "martial-island",
   "metadata": {},
   "source": [
    "The plot's general attributes can be easily designed and changed inside the figure() function in Bokeh. You can add the title of the graph, modify its size manually or change it to fit the screen proportionally. The axes' range can also be defined through the x_range and y_range objects.<br>\n",
    "Bokeh also provided a variety of axes type to fit the different data types. Through importing the built-in packaged from Bokeh, users can enable different units of the axes. For instance, the NumeralTickFormatter can translate a number into strings, currency, byte, and time and display the symbols on the axes to make the graph more readable. The formatting process can be implemented through the formatter property.<br>\n",
    "Similar to other plot libraries, Bokeh comes along with built-in themes to change its appearance. There are five built-in themes in Bokeh: caliber, dark_minimal, light_minimal, night_sky, and contrast, but the user can also create customing themes as wells. The theme design can be implemented through JSON and YAML files. \n"
   ]
  },
  {
   "cell_type": "code",
   "execution_count": 61,
   "id": "banner-detective",
   "metadata": {},
   "outputs": [
    {
     "data": {
      "text/html": [
       "\n",
       "\n",
       "\n",
       "\n",
       "\n",
       "\n",
       "  <div class=\"bk-root\" id=\"5787a8ab-a7af-444b-8d4f-facd6d7ba863\" data-root-id=\"9473\"></div>\n"
      ]
     },
     "metadata": {},
     "output_type": "display_data"
    },
    {
     "data": {
      "application/javascript": [
       "(function(root) {\n",
       "  function embed_document(root) {\n",
       "    \n",
       "  const docs_json = {\"6872b8dc-130a-4778-8774-c012c41384f1\":{\"defs\":[],\"roots\":{\"references\":[{\"attributes\":{\"below\":[{\"id\":\"9484\"}],\"center\":[{\"id\":\"9487\"},{\"id\":\"9491\"},{\"id\":\"9523\"}],\"left\":[{\"id\":\"9488\"}],\"renderers\":[{\"id\":\"9511\"},{\"id\":\"9530\"},{\"id\":\"9550\"}],\"title\":{\"id\":\"9474\"},\"title_location\":\"left\",\"toolbar\":{\"id\":\"9499\"},\"x_range\":{\"id\":\"9476\"},\"x_scale\":{\"id\":\"9480\"},\"y_range\":{\"id\":\"9478\"},\"y_scale\":{\"id\":\"9482\"}},\"id\":\"9473\",\"subtype\":\"Figure\",\"type\":\"Plot\"},{\"attributes\":{\"data\":{\"A\":[6,2,5,0,1],\"B\":[3,8,0,3,7],\"C\":[2,0,0,1,3],\"D\":[7,5,7,8,4],\"index\":[0,1,2,3,4]},\"selected\":{\"id\":\"9521\"},\"selection_policy\":{\"id\":\"9520\"}},\"id\":\"9506\",\"type\":\"ColumnDataSource\"},{\"attributes\":{\"fill_alpha\":{\"value\":0.5},\"fill_color\":{\"value\":\"red\"},\"hatch_alpha\":{\"value\":0.5},\"hatch_color\":{\"value\":\"red\"},\"line_alpha\":{\"value\":0.5},\"line_color\":{\"value\":\"red\"},\"top\":{\"field\":\"B\"},\"width\":{\"value\":0.5},\"x\":{\"field\":\"A\"}},\"id\":\"9547\",\"type\":\"VBar\"},{\"attributes\":{\"fill_color\":{\"value\":\"#1f77b4\"},\"line_color\":{\"value\":\"yellow\"},\"size\":{\"value\":12},\"x\":{\"field\":\"A\"},\"y\":{\"field\":\"B\"}},\"id\":\"9527\",\"type\":\"Circle\"},{\"attributes\":{},\"id\":\"9476\",\"type\":\"DataRange1d\"},{\"attributes\":{},\"id\":\"9542\",\"type\":\"Selection\"},{\"attributes\":{},\"id\":\"9478\",\"type\":\"DataRange1d\"},{\"attributes\":{\"source\":{\"id\":\"9525\"}},\"id\":\"9531\",\"type\":\"CDSView\"},{\"attributes\":{},\"id\":\"9563\",\"type\":\"UnionRenderers\"},{\"attributes\":{},\"id\":\"9541\",\"type\":\"UnionRenderers\"},{\"attributes\":{\"data\":{\"A\":[6,2,5,0,1],\"B\":[3,8,0,3,7],\"C\":[2,0,0,1,3],\"D\":[7,5,7,8,4],\"index\":[0,1,2,3,4]},\"selected\":{\"id\":\"9542\"},\"selection_policy\":{\"id\":\"9541\"}},\"id\":\"9525\",\"type\":\"ColumnDataSource\"},{\"attributes\":{\"line_alpha\":0.2,\"line_color\":\"blue\",\"line_width\":2,\"x\":{\"field\":\"A\"},\"y\":{\"field\":\"B\"}},\"id\":\"9510\",\"type\":\"Line\"},{\"attributes\":{\"label\":{\"value\":\"line chart\"},\"renderers\":[{\"id\":\"9511\"}]},\"id\":\"9524\",\"type\":\"LegendItem\"},{\"attributes\":{\"bottom_units\":\"screen\",\"coordinates\":null,\"fill_alpha\":0.5,\"fill_color\":\"lightgrey\",\"group\":null,\"left_units\":\"screen\",\"level\":\"overlay\",\"line_alpha\":1.0,\"line_color\":\"black\",\"line_dash\":[4,4],\"line_width\":2,\"right_units\":\"screen\",\"syncable\":false,\"top_units\":\"screen\"},\"id\":\"9498\",\"type\":\"BoxAnnotation\"},{\"attributes\":{\"format\":\"$0.00\"},\"id\":\"9567\",\"type\":\"NumeralTickFormatter\"},{\"attributes\":{},\"id\":\"9516\",\"type\":\"AllLabels\"},{\"attributes\":{\"overlay\":{\"id\":\"9498\"}},\"id\":\"9494\",\"type\":\"BoxZoomTool\"},{\"attributes\":{},\"id\":\"9496\",\"type\":\"ResetTool\"},{\"attributes\":{},\"id\":\"9492\",\"type\":\"PanTool\"},{\"attributes\":{},\"id\":\"9497\",\"type\":\"HelpTool\"},{\"attributes\":{\"fill_alpha\":{\"value\":0.2},\"fill_color\":{\"value\":\"red\"},\"hatch_alpha\":{\"value\":0.2},\"hatch_color\":{\"value\":\"red\"},\"line_alpha\":{\"value\":0.2},\"line_color\":{\"value\":\"red\"},\"top\":{\"field\":\"B\"},\"width\":{\"value\":0.5},\"x\":{\"field\":\"A\"}},\"id\":\"9549\",\"type\":\"VBar\"},{\"attributes\":{},\"id\":\"9495\",\"type\":\"SaveTool\"},{\"attributes\":{},\"id\":\"9489\",\"type\":\"BasicTicker\"},{\"attributes\":{\"axis\":{\"id\":\"9488\"},\"coordinates\":null,\"dimension\":1,\"group\":null,\"ticker\":null},\"id\":\"9491\",\"type\":\"Grid\"},{\"attributes\":{\"line_alpha\":0.1,\"line_color\":\"blue\",\"line_width\":2,\"x\":{\"field\":\"A\"},\"y\":{\"field\":\"B\"}},\"id\":\"9509\",\"type\":\"Line\"},{\"attributes\":{\"axis_label\":\"Y axis\",\"coordinates\":null,\"formatter\":{\"id\":\"9567\"},\"group\":null,\"major_label_policy\":{\"id\":\"9516\"},\"ticker\":{\"id\":\"9489\"}},\"id\":\"9488\",\"type\":\"LinearAxis\"},{\"attributes\":{},\"id\":\"9564\",\"type\":\"Selection\"},{\"attributes\":{\"source\":{\"id\":\"9506\"}},\"id\":\"9512\",\"type\":\"CDSView\"},{\"attributes\":{},\"id\":\"9493\",\"type\":\"WheelZoomTool\"},{\"attributes\":{\"tools\":[{\"id\":\"9492\"},{\"id\":\"9493\"},{\"id\":\"9494\"},{\"id\":\"9495\"},{\"id\":\"9496\"},{\"id\":\"9497\"}]},\"id\":\"9499\",\"type\":\"Toolbar\"},{\"attributes\":{\"axis_label\":\"X axis\",\"coordinates\":null,\"formatter\":{\"id\":\"9518\"},\"group\":null,\"major_label_policy\":{\"id\":\"9519\"},\"ticker\":{\"id\":\"9485\"}},\"id\":\"9484\",\"type\":\"LinearAxis\"},{\"attributes\":{\"data\":{\"A\":[6,2,5,0,1],\"B\":[3,8,0,3,7],\"C\":[2,0,0,1,3],\"D\":[7,5,7,8,4],\"index\":[0,1,2,3,4]},\"selected\":{\"id\":\"9564\"},\"selection_policy\":{\"id\":\"9563\"}},\"id\":\"9545\",\"type\":\"ColumnDataSource\"},{\"attributes\":{},\"id\":\"9480\",\"type\":\"LinearScale\"},{\"attributes\":{},\"id\":\"9521\",\"type\":\"Selection\"},{\"attributes\":{\"axis\":{\"id\":\"9484\"},\"coordinates\":null,\"group\":null,\"ticker\":null},\"id\":\"9487\",\"type\":\"Grid\"},{\"attributes\":{\"label\":{\"value\":\"vbar\"},\"renderers\":[{\"id\":\"9550\"}]},\"id\":\"9566\",\"type\":\"LegendItem\"},{\"attributes\":{\"coordinates\":null,\"group\":null,\"items\":[{\"id\":\"9524\"},{\"id\":\"9544\"},{\"id\":\"9566\"}],\"label_text_color\":\"blue\",\"label_text_font\":\"times\",\"label_text_font_style\":\"italic\",\"location\":\"top_left\",\"title\":\"glyph types\"},\"id\":\"9523\",\"type\":\"Legend\"},{\"attributes\":{\"coordinates\":null,\"data_source\":{\"id\":\"9545\"},\"glyph\":{\"id\":\"9547\"},\"group\":null,\"hover_glyph\":null,\"muted_glyph\":{\"id\":\"9549\"},\"nonselection_glyph\":{\"id\":\"9548\"},\"view\":{\"id\":\"9551\"}},\"id\":\"9550\",\"type\":\"GlyphRenderer\"},{\"attributes\":{},\"id\":\"9485\",\"type\":\"BasicTicker\"},{\"attributes\":{\"coordinates\":null,\"data_source\":{\"id\":\"9506\"},\"glyph\":{\"id\":\"9508\"},\"group\":null,\"hover_glyph\":null,\"muted_glyph\":{\"id\":\"9510\"},\"nonselection_glyph\":{\"id\":\"9509\"},\"view\":{\"id\":\"9512\"}},\"id\":\"9511\",\"type\":\"GlyphRenderer\"},{\"attributes\":{\"line_color\":\"blue\",\"line_width\":2,\"x\":{\"field\":\"A\"},\"y\":{\"field\":\"B\"}},\"id\":\"9508\",\"type\":\"Line\"},{\"attributes\":{\"source\":{\"id\":\"9545\"}},\"id\":\"9551\",\"type\":\"CDSView\"},{\"attributes\":{\"fill_alpha\":{\"value\":0.1},\"fill_color\":{\"value\":\"red\"},\"hatch_alpha\":{\"value\":0.1},\"hatch_color\":{\"value\":\"red\"},\"line_alpha\":{\"value\":0.1},\"line_color\":{\"value\":\"red\"},\"top\":{\"field\":\"B\"},\"width\":{\"value\":0.5},\"x\":{\"field\":\"A\"}},\"id\":\"9548\",\"type\":\"VBar\"},{\"attributes\":{\"coordinates\":null,\"data_source\":{\"id\":\"9525\"},\"glyph\":{\"id\":\"9527\"},\"group\":null,\"hover_glyph\":null,\"muted_glyph\":{\"id\":\"9529\"},\"nonselection_glyph\":{\"id\":\"9528\"},\"view\":{\"id\":\"9531\"}},\"id\":\"9530\",\"type\":\"GlyphRenderer\"},{\"attributes\":{},\"id\":\"9518\",\"type\":\"BasicTickFormatter\"},{\"attributes\":{},\"id\":\"9520\",\"type\":\"UnionRenderers\"},{\"attributes\":{\"coordinates\":null,\"group\":null,\"text\":\"glyph plot example\"},\"id\":\"9474\",\"type\":\"Title\"},{\"attributes\":{},\"id\":\"9519\",\"type\":\"AllLabels\"},{\"attributes\":{},\"id\":\"9482\",\"type\":\"LinearScale\"},{\"attributes\":{\"label\":{\"value\":\"circle plot\"},\"renderers\":[{\"id\":\"9530\"}]},\"id\":\"9544\",\"type\":\"LegendItem\"},{\"attributes\":{\"fill_alpha\":{\"value\":0.1},\"fill_color\":{\"value\":\"#1f77b4\"},\"hatch_alpha\":{\"value\":0.1},\"line_alpha\":{\"value\":0.1},\"line_color\":{\"value\":\"yellow\"},\"size\":{\"value\":12},\"x\":{\"field\":\"A\"},\"y\":{\"field\":\"B\"}},\"id\":\"9528\",\"type\":\"Circle\"},{\"attributes\":{\"fill_alpha\":{\"value\":0.2},\"fill_color\":{\"value\":\"#1f77b4\"},\"hatch_alpha\":{\"value\":0.2},\"line_alpha\":{\"value\":0.2},\"line_color\":{\"value\":\"yellow\"},\"size\":{\"value\":12},\"x\":{\"field\":\"A\"},\"y\":{\"field\":\"B\"}},\"id\":\"9529\",\"type\":\"Circle\"}],\"root_ids\":[\"9473\"]},\"title\":\"Bokeh Application\",\"version\":\"2.4.1\"}};\n",
       "  const render_items = [{\"docid\":\"6872b8dc-130a-4778-8774-c012c41384f1\",\"root_ids\":[\"9473\"],\"roots\":{\"9473\":\"5787a8ab-a7af-444b-8d4f-facd6d7ba863\"}}];\n",
       "  root.Bokeh.embed.embed_items_notebook(docs_json, render_items);\n",
       "\n",
       "  }\n",
       "  if (root.Bokeh !== undefined) {\n",
       "    embed_document(root);\n",
       "  } else {\n",
       "    let attempts = 0;\n",
       "    const timer = setInterval(function(root) {\n",
       "      if (root.Bokeh !== undefined) {\n",
       "        clearInterval(timer);\n",
       "        embed_document(root);\n",
       "      } else {\n",
       "        attempts++;\n",
       "        if (attempts > 100) {\n",
       "          clearInterval(timer);\n",
       "          console.log(\"Bokeh: ERROR: Unable to run BokehJS code because BokehJS library is missing\");\n",
       "        }\n",
       "      }\n",
       "    }, 10, root)\n",
       "  }\n",
       "})(window);"
      ],
      "application/vnd.bokehjs_exec.v0+json": ""
     },
     "metadata": {
      "application/vnd.bokehjs_exec.v0+json": {
       "id": "9473"
      }
     },
     "output_type": "display_data"
    }
   ],
   "source": [
    "from bokeh.models import DatetimeTickFormatter, NumeralTickFormatter\n",
    "# Deine Plot\n",
    "p = figure(title=\"glyph plot example\", x_axis_label=\"X axis\", y_axis_label=\"Y axis\")\n",
    "# Add Glyphs\n",
    "line = p.line('A', 'B', \n",
    "       legend_label=\"line chart\",line_color = 'blue', line_width=2,source = df)\n",
    "circle = p.circle('A', 'B', \n",
    "         legend_label=\"circle plot\", # add legend of glyph\n",
    "        line_color=\"yellow\", size=12,\n",
    "         source = df)\n",
    "vbar = p.vbar(x='A', top='B', \n",
    "       legend_label=\"vbar\", width=0.5, bottom=0, color=\"red\",\n",
    "       source = df,alpha = 0.5)\n",
    "p.legend.location = 'top_left' # the default position is 'top_right'\n",
    "p.legend.title = 'glyph types' # add title to legend\n",
    "\n",
    "# change the font, font style and text color of legend text\n",
    "p.legend.label_text_font = \"times\"\n",
    "p.legend.label_text_font_style = \"italic\"\n",
    "p.legend.label_text_color = \"blue\"\n",
    "\n",
    "# change location and style of title\n",
    "p.title_location = \"left\"\n",
    "p.title_location = \"left\"\n",
    "\n",
    "#format axes ticks\n",
    "p.yaxis[0].formatter = NumeralTickFormatter(format=\"$0.00\")\n",
    "\n",
    "show(p)"
   ]
  },
  {
   "cell_type": "markdown",
   "id": "absent-tribe",
   "metadata": {},
   "source": [
    "## Mapping Data to Colors and Sizes"
   ]
  },
  {
   "cell_type": "markdown",
   "id": "dimensional-showcase",
   "metadata": {},
   "source": [
    "While the user can adjust the color and size of the plot via the fill_color property, they can also change the color and size through a vectorization based on the data value. The process can be implemented by the radii and colors argument. The users can also custom color through mapping the color to the built-in pre-defined palettes inside Bokeh. In the example, we showed how to map the shade to the Magma palette, originally from the Matplotlib. After creating the linear color mapper, the user can then customize the circle plot color through the circle property."
   ]
  },
  {
   "cell_type": "code",
   "execution_count": 135,
   "id": "indirect-cleaning",
   "metadata": {},
   "outputs": [
    {
     "data": {
      "text/html": [
       "\n",
       "\n",
       "\n",
       "\n",
       "\n",
       "\n",
       "  <div class=\"bk-root\" id=\"152616db-8f4f-48f2-b700-9a811b8a58e3\" data-root-id=\"22575\"></div>\n"
      ]
     },
     "metadata": {},
     "output_type": "display_data"
    },
    {
     "data": {
      "application/javascript": [
       "(function(root) {\n",
       "  function embed_document(root) {\n",
       "    \n",
       "  const docs_json = {\"4f5d4713-c19e-430d-a17c-3587f976a577\":{\"defs\":[],\"roots\":{\"references\":[{\"attributes\":{\"below\":[{\"id\":\"22584\"}],\"center\":[{\"id\":\"22587\"},{\"id\":\"22591\"}],\"height\":250,\"left\":[{\"id\":\"22588\"}],\"renderers\":[{\"id\":\"22610\"}],\"title\":{\"id\":\"23123\"},\"toolbar\":{\"id\":\"22599\"},\"width\":500,\"x_range\":{\"id\":\"22576\"},\"x_scale\":{\"id\":\"22580\"},\"y_range\":{\"id\":\"22578\"},\"y_scale\":{\"id\":\"22582\"}},\"id\":\"22575\",\"subtype\":\"Figure\",\"type\":\"Plot\"},{\"attributes\":{},\"id\":\"22580\",\"type\":\"LinearScale\"},{\"attributes\":{},\"id\":\"23131\",\"type\":\"UnionRenderers\"},{\"attributes\":{},\"id\":\"23130\",\"type\":\"AllLabels\"},{\"attributes\":{},\"id\":\"22578\",\"type\":\"DataRange1d\"},{\"attributes\":{\"coordinates\":null,\"formatter\":{\"id\":\"23126\"},\"group\":null,\"major_label_policy\":{\"id\":\"23127\"},\"ticker\":{\"id\":\"22589\"}},\"id\":\"22588\",\"type\":\"LinearAxis\"},{\"attributes\":{},\"id\":\"22593\",\"type\":\"WheelZoomTool\"},{\"attributes\":{\"bottom_units\":\"screen\",\"coordinates\":null,\"fill_alpha\":0.5,\"fill_color\":\"lightgrey\",\"group\":null,\"left_units\":\"screen\",\"level\":\"overlay\",\"line_alpha\":1.0,\"line_color\":\"black\",\"line_dash\":[4,4],\"line_width\":2,\"right_units\":\"screen\",\"syncable\":false,\"top_units\":\"screen\"},\"id\":\"22598\",\"type\":\"BoxAnnotation\"},{\"attributes\":{},\"id\":\"22582\",\"type\":\"LinearScale\"},{\"attributes\":{},\"id\":\"23126\",\"type\":\"BasicTickFormatter\"},{\"attributes\":{},\"id\":\"23129\",\"type\":\"BasicTickFormatter\"},{\"attributes\":{\"axis\":{\"id\":\"22584\"},\"coordinates\":null,\"group\":null,\"ticker\":null},\"id\":\"22587\",\"type\":\"Grid\"},{\"attributes\":{\"fill_alpha\":{\"value\":0.1},\"fill_color\":{\"field\":\"y\",\"transform\":{\"id\":\"22574\"}},\"hatch_alpha\":{\"value\":0.1},\"hatch_color\":{\"field\":\"y\",\"transform\":{\"id\":\"22574\"}},\"line_alpha\":{\"value\":0.1},\"line_color\":{\"field\":\"y\",\"transform\":{\"id\":\"22574\"}},\"radius\":{\"field\":\"radius\"},\"size\":{\"value\":10},\"x\":{\"field\":\"x\"},\"y\":{\"field\":\"y\"}},\"id\":\"22608\",\"type\":\"Circle\"},{\"attributes\":{},\"id\":\"22596\",\"type\":\"ResetTool\"},{\"attributes\":{},\"id\":\"22597\",\"type\":\"HelpTool\"},{\"attributes\":{\"coordinates\":null,\"formatter\":{\"id\":\"23129\"},\"group\":null,\"major_label_policy\":{\"id\":\"23130\"},\"ticker\":{\"id\":\"22585\"}},\"id\":\"22584\",\"type\":\"LinearAxis\"},{\"attributes\":{},\"id\":\"22576\",\"type\":\"DataRange1d\"},{\"attributes\":{},\"id\":\"22592\",\"type\":\"PanTool\"},{\"attributes\":{\"fill_color\":{\"field\":\"y\",\"transform\":{\"id\":\"22574\"}},\"hatch_color\":{\"field\":\"y\",\"transform\":{\"id\":\"22574\"}},\"line_color\":{\"field\":\"y\",\"transform\":{\"id\":\"22574\"}},\"radius\":{\"field\":\"radius\"},\"size\":{\"value\":10},\"x\":{\"field\":\"x\"},\"y\":{\"field\":\"y\"}},\"id\":\"22607\",\"type\":\"Circle\"},{\"attributes\":{\"coordinates\":null,\"data_source\":{\"id\":\"22606\"},\"glyph\":{\"id\":\"22607\"},\"group\":null,\"hover_glyph\":null,\"muted_glyph\":{\"id\":\"22609\"},\"nonselection_glyph\":{\"id\":\"22608\"},\"view\":{\"id\":\"22611\"}},\"id\":\"22610\",\"type\":\"GlyphRenderer\"},{\"attributes\":{\"fill_alpha\":{\"value\":0.2},\"fill_color\":{\"field\":\"y\",\"transform\":{\"id\":\"22574\"}},\"hatch_alpha\":{\"value\":0.2},\"hatch_color\":{\"field\":\"y\",\"transform\":{\"id\":\"22574\"}},\"line_alpha\":{\"value\":0.2},\"line_color\":{\"field\":\"y\",\"transform\":{\"id\":\"22574\"}},\"radius\":{\"field\":\"radius\"},\"size\":{\"value\":10},\"x\":{\"field\":\"x\"},\"y\":{\"field\":\"y\"}},\"id\":\"22609\",\"type\":\"Circle\"},{\"attributes\":{\"data\":{\"radius\":{\"__ndarray__\":\"mpmZmZmZuT+amZmZmZnJPzMzMzMzM9M/mpmZmZmZ2T8AAAAAAADgPw==\",\"dtype\":\"float64\",\"order\":\"little\",\"shape\":[5]},\"x\":[1,2,3,4,5],\"y\":[1,4,9,16,25]},\"selected\":{\"id\":\"23132\"},\"selection_policy\":{\"id\":\"23131\"}},\"id\":\"22606\",\"type\":\"ColumnDataSource\"},{\"attributes\":{},\"id\":\"22589\",\"type\":\"BasicTicker\"},{\"attributes\":{},\"id\":\"23127\",\"type\":\"AllLabels\"},{\"attributes\":{\"high\":25,\"low\":1,\"palette\":[\"#30123b\",\"#311542\",\"#32184a\",\"#341b51\",\"#351e58\",\"#36215f\",\"#372365\",\"#38266c\",\"#392972\",\"#3a2c79\",\"#3b2f7f\",\"#3c3285\",\"#3c358b\",\"#3d3791\",\"#3e3a96\",\"#3f3d9c\",\"#4040a1\",\"#4043a6\",\"#4145ab\",\"#4148b0\",\"#424bb5\",\"#434eba\",\"#4350be\",\"#4353c2\",\"#4456c7\",\"#4458cb\",\"#455bce\",\"#455ed2\",\"#4560d6\",\"#4563d9\",\"#4666dd\",\"#4668e0\",\"#466be3\",\"#466de6\",\"#4670e8\",\"#4673eb\",\"#4675ed\",\"#4678f0\",\"#467af2\",\"#467df4\",\"#467ff6\",\"#4682f8\",\"#4584f9\",\"#4587fb\",\"#4589fc\",\"#448cfd\",\"#438efd\",\"#4291fe\",\"#4193fe\",\"#4096fe\",\"#3f98fe\",\"#3e9bfe\",\"#3c9dfd\",\"#3ba0fc\",\"#39a2fc\",\"#38a5fb\",\"#36a8f9\",\"#34aaf8\",\"#33acf6\",\"#31aff5\",\"#2fb1f3\",\"#2db4f1\",\"#2bb6ef\",\"#2ab9ed\",\"#28bbeb\",\"#26bde9\",\"#25c0e6\",\"#23c2e4\",\"#21c4e1\",\"#20c6df\",\"#1ec9dc\",\"#1dcbda\",\"#1ccdd7\",\"#1bcfd4\",\"#1ad1d2\",\"#19d3cf\",\"#18d5cc\",\"#18d7ca\",\"#17d9c7\",\"#17dac4\",\"#17dcc2\",\"#17debf\",\"#18e0bd\",\"#18e1ba\",\"#19e3b8\",\"#1ae4b6\",\"#1be5b4\",\"#1de7b1\",\"#1ee8af\",\"#20e9ac\",\"#22eba9\",\"#24eca6\",\"#27eda3\",\"#29eea0\",\"#2cef9d\",\"#2ff09a\",\"#32f197\",\"#35f394\",\"#38f491\",\"#3bf48d\",\"#3ff58a\",\"#42f687\",\"#46f783\",\"#4af880\",\"#4df97c\",\"#51f979\",\"#55fa76\",\"#59fb72\",\"#5dfb6f\",\"#61fc6c\",\"#65fc68\",\"#69fd65\",\"#6dfd62\",\"#71fd5f\",\"#74fe5c\",\"#78fe59\",\"#7cfe56\",\"#80fe53\",\"#84fe50\",\"#87fe4d\",\"#8bfe4b\",\"#8efe48\",\"#92fe46\",\"#95fe44\",\"#98fe42\",\"#9bfd40\",\"#9efd3e\",\"#a1fc3d\",\"#a4fc3b\",\"#a6fb3a\",\"#a9fb39\",\"#acfa37\",\"#aef937\",\"#b1f836\",\"#b3f835\",\"#b6f735\",\"#b9f534\",\"#bbf434\",\"#bef334\",\"#c0f233\",\"#c3f133\",\"#c5ef33\",\"#c8ee33\",\"#caed33\",\"#cdeb34\",\"#cfea34\",\"#d1e834\",\"#d4e735\",\"#d6e535\",\"#d8e335\",\"#dae236\",\"#dde036\",\"#dfde36\",\"#e1dc37\",\"#e3da37\",\"#e5d838\",\"#e7d738\",\"#e8d538\",\"#ead339\",\"#ecd139\",\"#edcf39\",\"#efcd39\",\"#f0cb3a\",\"#f2c83a\",\"#f3c63a\",\"#f4c43a\",\"#f6c23a\",\"#f7c039\",\"#f8be39\",\"#f9bc39\",\"#f9ba38\",\"#fab737\",\"#fbb537\",\"#fbb336\",\"#fcb035\",\"#fcae34\",\"#fdab33\",\"#fda932\",\"#fda631\",\"#fda330\",\"#fea12f\",\"#fe9e2e\",\"#fe9b2d\",\"#fe982c\",\"#fd952b\",\"#fd9229\",\"#fd8f28\",\"#fd8c27\",\"#fc8926\",\"#fc8624\",\"#fb8323\",\"#fb8022\",\"#fa7d20\",\"#fa7a1f\",\"#f9771e\",\"#f8741c\",\"#f7711b\",\"#f76e1a\",\"#f66b18\",\"#f56817\",\"#f46516\",\"#f36315\",\"#f26014\",\"#f15d13\",\"#ef5a11\",\"#ee5810\",\"#ed550f\",\"#ec520e\",\"#ea500d\",\"#e94d0d\",\"#e84b0c\",\"#e6490b\",\"#e5460a\",\"#e3440a\",\"#e24209\",\"#e04008\",\"#de3e08\",\"#dd3c07\",\"#db3a07\",\"#d93806\",\"#d73606\",\"#d63405\",\"#d43205\",\"#d23005\",\"#d02f04\",\"#ce2d04\",\"#cb2b03\",\"#c92903\",\"#c72803\",\"#c52602\",\"#c32402\",\"#c02302\",\"#be2102\",\"#bb1f01\",\"#b91e01\",\"#b61c01\",\"#b41b01\",\"#b11901\",\"#ae1801\",\"#ac1601\",\"#a91501\",\"#a61401\",\"#a31201\",\"#a01101\",\"#9d1001\",\"#9a0e01\",\"#970d01\",\"#940c01\",\"#910b01\",\"#8e0a01\",\"#8b0901\",\"#870801\",\"#840701\",\"#810602\",\"#7d0502\",\"#7a0402\"]},\"id\":\"22574\",\"type\":\"LinearColorMapper\"},{\"attributes\":{},\"id\":\"22595\",\"type\":\"SaveTool\"},{\"attributes\":{\"coordinates\":null,\"group\":null},\"id\":\"23123\",\"type\":\"Title\"},{\"attributes\":{\"source\":{\"id\":\"22606\"}},\"id\":\"22611\",\"type\":\"CDSView\"},{\"attributes\":{\"tools\":[{\"id\":\"22592\"},{\"id\":\"22593\"},{\"id\":\"22594\"},{\"id\":\"22595\"},{\"id\":\"22596\"},{\"id\":\"22597\"}]},\"id\":\"22599\",\"type\":\"Toolbar\"},{\"attributes\":{\"overlay\":{\"id\":\"22598\"}},\"id\":\"22594\",\"type\":\"BoxZoomTool\"},{\"attributes\":{},\"id\":\"22585\",\"type\":\"BasicTicker\"},{\"attributes\":{},\"id\":\"23132\",\"type\":\"Selection\"},{\"attributes\":{\"axis\":{\"id\":\"22588\"},\"coordinates\":null,\"dimension\":1,\"group\":null,\"ticker\":null},\"id\":\"22591\",\"type\":\"Grid\"}],\"root_ids\":[\"22575\"]},\"title\":\"Bokeh Application\",\"version\":\"2.4.1\"}};\n",
       "  const render_items = [{\"docid\":\"4f5d4713-c19e-430d-a17c-3587f976a577\",\"root_ids\":[\"22575\"],\"roots\":{\"22575\":\"152616db-8f4f-48f2-b700-9a811b8a58e3\"}}];\n",
       "  root.Bokeh.embed.embed_items_notebook(docs_json, render_items);\n",
       "\n",
       "  }\n",
       "  if (root.Bokeh !== undefined) {\n",
       "    embed_document(root);\n",
       "  } else {\n",
       "    let attempts = 0;\n",
       "    const timer = setInterval(function(root) {\n",
       "      if (root.Bokeh !== undefined) {\n",
       "        clearInterval(timer);\n",
       "        embed_document(root);\n",
       "      } else {\n",
       "        attempts++;\n",
       "        if (attempts > 100) {\n",
       "          clearInterval(timer);\n",
       "          console.log(\"Bokeh: ERROR: Unable to run BokehJS code because BokehJS library is missing\");\n",
       "        }\n",
       "      }\n",
       "    }, 10, root)\n",
       "  }\n",
       "})(window);"
      ],
      "application/vnd.bokehjs_exec.v0+json": ""
     },
     "metadata": {
      "application/vnd.bokehjs_exec.v0+json": {
       "id": "22575"
      }
     },
     "output_type": "display_data"
    }
   ],
   "source": [
    "# generate data\n",
    "x = [1,2,3,4,5]\n",
    "y = [i**2 for i in x]\n",
    "r = np.array([0.1,0.2,0.3,0.4,0.5])\n",
    "# create linear color mapper\n",
    "mapper = linear_cmap(field_name=\"y\", palette=Turbo256, low=min(y), high=max(y))\n",
    "\n",
    "# create plot\n",
    "p = figure(width=500, height=250)\n",
    "\n",
    "# create circle renderer with color mapper\n",
    "p.circle(x, y, \n",
    "         radius = r,\n",
    "         color=mapper, size=10)\n",
    "\n",
    "show(p)"
   ]
  },
  {
   "cell_type": "markdown",
   "id": "affected-birthday",
   "metadata": {},
   "source": [
    "## Using Widget"
   ]
  },
  {
   "cell_type": "markdown",
   "id": "eight-entry",
   "metadata": {},
   "source": [
    "An important built-in tool of the bokeh package is its interactive widget, which allows users to adjust and control elements of the Bokeh document and produce dynamic results with additional information. Bokeh can produce a plot with three widgets: Div widget to display HTML text, Spinner widget to select Numeric Value, and RangeSlider widget to adjust a range. After creating the Spinner and RangeSlider widget, the user would need to link the widget objects to the glyph property through the js_link() function. After defining the widgets, the user can create a dashboard with the layout() to display the widgets in the resulting plot. In the following examples, we will display how to apply these three widget objects.<br>\n",
    "In the outcome plot, we could find the two widgets on the sides of our plot. We could adjust the x-ais range, and the size of our scatter plot by interacting with the curse."
   ]
  },
  {
   "cell_type": "code",
   "execution_count": 136,
   "id": "psychological-determination",
   "metadata": {},
   "outputs": [],
   "source": [
    "from bokeh.models import Div, RangeSlider, Spinner"
   ]
  },
  {
   "cell_type": "code",
   "execution_count": 145,
   "id": "processed-millennium",
   "metadata": {},
   "outputs": [
    {
     "data": {
      "text/html": [
       "\n",
       "\n",
       "\n",
       "\n",
       "\n",
       "\n",
       "  <div class=\"bk-root\" id=\"c2bc21d3-a0a0-40f3-a729-738a18cd9aa9\" data-root-id=\"24077\"></div>\n"
      ]
     },
     "metadata": {},
     "output_type": "display_data"
    },
    {
     "data": {
      "application/javascript": [
       "(function(root) {\n",
       "  function embed_document(root) {\n",
       "    \n",
       "  const docs_json = {\"d6a29174-6aa4-4383-ba67-808ba439d03b\":{\"defs\":[],\"roots\":{\"references\":[{\"attributes\":{\"children\":[{\"id\":\"24074\"},{\"id\":\"24075\"},{\"id\":\"24076\"}]},\"id\":\"24077\",\"type\":\"Column\"},{\"attributes\":{\"tools\":[{\"id\":\"24048\"},{\"id\":\"24049\"},{\"id\":\"24050\"},{\"id\":\"24051\"},{\"id\":\"24052\"},{\"id\":\"24053\"}]},\"id\":\"24055\",\"type\":\"Toolbar\"},{\"attributes\":{},\"id\":\"24034\",\"type\":\"DataRange1d\"},{\"attributes\":{\"data\":{\"x\":[6,2,5,0,1],\"y\":[3,8,0,3,7]},\"selected\":{\"id\":\"24620\"},\"selection_policy\":{\"id\":\"24619\"}},\"id\":\"24062\",\"type\":\"ColumnDataSource\"},{\"attributes\":{},\"id\":\"24619\",\"type\":\"UnionRenderers\"},{\"attributes\":{\"args\":{\"other\":{\"id\":\"24032\"}},\"code\":\"other.end = this.value[1]\"},\"id\":\"24073\",\"type\":\"CustomJS\"},{\"attributes\":{},\"id\":\"24036\",\"type\":\"LinearScale\"},{\"attributes\":{},\"id\":\"24620\",\"type\":\"Selection\"},{\"attributes\":{\"fill_alpha\":{\"value\":0.1},\"fill_color\":{\"value\":\"#21a7df\"},\"hatch_alpha\":{\"value\":0.1},\"line_alpha\":{\"value\":0.1},\"line_color\":{\"value\":\"#1f77b4\"},\"size\":{\"value\":30},\"x\":{\"field\":\"x\"},\"y\":{\"field\":\"y\"}},\"id\":\"24064\",\"type\":\"Circle\"},{\"attributes\":{},\"id\":\"24041\",\"type\":\"BasicTicker\"},{\"attributes\":{\"end\":9,\"start\":1},\"id\":\"24032\",\"type\":\"Range1d\"},{\"attributes\":{\"children\":[{\"id\":\"24068\"},{\"id\":\"24069\"}]},\"id\":\"24074\",\"type\":\"Row\"},{\"attributes\":{\"height\":30,\"text\":\"\\n          <p>Select the circle's size using this control element:</p>\\n          \",\"width\":200},\"id\":\"24068\",\"type\":\"Div\"},{\"attributes\":{},\"id\":\"24052\",\"type\":\"ResetTool\"},{\"attributes\":{},\"id\":\"24038\",\"type\":\"LinearScale\"},{\"attributes\":{\"fill_color\":{\"value\":\"#21a7df\"},\"line_color\":{\"value\":\"#1f77b4\"},\"size\":{\"value\":30},\"x\":{\"field\":\"x\"},\"y\":{\"field\":\"y\"}},\"id\":\"24063\",\"type\":\"Circle\"},{\"attributes\":{\"coordinates\":null,\"data_source\":{\"id\":\"24062\"},\"glyph\":{\"id\":\"24063\"},\"group\":null,\"hover_glyph\":null,\"muted_glyph\":{\"id\":\"24065\"},\"nonselection_glyph\":{\"id\":\"24064\"},\"view\":{\"id\":\"24067\"}},\"id\":\"24066\",\"type\":\"GlyphRenderer\"},{\"attributes\":{},\"id\":\"24045\",\"type\":\"BasicTicker\"},{\"attributes\":{\"children\":[{\"id\":\"24031\"}]},\"id\":\"24076\",\"type\":\"Row\"},{\"attributes\":{\"below\":[{\"id\":\"24040\"}],\"center\":[{\"id\":\"24043\"},{\"id\":\"24047\"}],\"height\":250,\"left\":[{\"id\":\"24044\"}],\"renderers\":[{\"id\":\"24066\"}],\"title\":{\"id\":\"24611\"},\"toolbar\":{\"id\":\"24055\"},\"width\":500,\"x_range\":{\"id\":\"24032\"},\"x_scale\":{\"id\":\"24036\"},\"y_range\":{\"id\":\"24034\"},\"y_scale\":{\"id\":\"24038\"}},\"id\":\"24031\",\"subtype\":\"Figure\",\"type\":\"Plot\"},{\"attributes\":{},\"id\":\"24048\",\"type\":\"PanTool\"},{\"attributes\":{\"overlay\":{\"id\":\"24054\"}},\"id\":\"24050\",\"type\":\"BoxZoomTool\"},{\"attributes\":{\"coordinates\":null,\"formatter\":{\"id\":\"24617\"},\"group\":null,\"major_label_policy\":{\"id\":\"24618\"},\"ticker\":{\"id\":\"24041\"}},\"id\":\"24040\",\"type\":\"LinearAxis\"},{\"attributes\":{\"source\":{\"id\":\"24062\"}},\"id\":\"24067\",\"type\":\"CDSView\"},{\"attributes\":{\"axis\":{\"id\":\"24040\"},\"coordinates\":null,\"group\":null,\"ticker\":null},\"id\":\"24043\",\"type\":\"Grid\"},{\"attributes\":{\"fill_alpha\":{\"value\":0.2},\"fill_color\":{\"value\":\"#21a7df\"},\"hatch_alpha\":{\"value\":0.2},\"line_alpha\":{\"value\":0.2},\"line_color\":{\"value\":\"#1f77b4\"},\"size\":{\"value\":30},\"x\":{\"field\":\"x\"},\"y\":{\"field\":\"y\"}},\"id\":\"24065\",\"type\":\"Circle\"},{\"attributes\":{},\"id\":\"24053\",\"type\":\"HelpTool\"},{\"attributes\":{},\"id\":\"24615\",\"type\":\"AllLabels\"},{\"attributes\":{},\"id\":\"24617\",\"type\":\"BasicTickFormatter\"},{\"attributes\":{},\"id\":\"24051\",\"type\":\"SaveTool\"},{\"attributes\":{},\"id\":\"24618\",\"type\":\"AllLabels\"},{\"attributes\":{\"bottom_units\":\"screen\",\"coordinates\":null,\"fill_alpha\":0.5,\"fill_color\":\"lightgrey\",\"group\":null,\"left_units\":\"screen\",\"level\":\"overlay\",\"line_alpha\":1.0,\"line_color\":\"black\",\"line_dash\":[4,4],\"line_width\":2,\"right_units\":\"screen\",\"syncable\":false,\"top_units\":\"screen\"},\"id\":\"24054\",\"type\":\"BoxAnnotation\"},{\"attributes\":{\"axis\":{\"id\":\"24044\"},\"coordinates\":null,\"dimension\":1,\"group\":null,\"ticker\":null},\"id\":\"24047\",\"type\":\"Grid\"},{\"attributes\":{\"args\":{\"other\":{\"id\":\"24063\"}},\"code\":\"other.size = this.value\"},\"id\":\"24070\",\"type\":\"CustomJS\"},{\"attributes\":{\"children\":[{\"id\":\"24071\"}]},\"id\":\"24075\",\"type\":\"Row\"},{\"attributes\":{},\"id\":\"24614\",\"type\":\"BasicTickFormatter\"},{\"attributes\":{\"high\":60,\"js_property_callbacks\":{\"change:value\":[{\"id\":\"24070\"}]},\"low\":0,\"step\":5,\"title\":\"Circle size\",\"value\":30,\"value_throttled\":30,\"width\":200},\"id\":\"24069\",\"type\":\"Spinner\"},{\"attributes\":{\"coordinates\":null,\"formatter\":{\"id\":\"24614\"},\"group\":null,\"major_label_policy\":{\"id\":\"24615\"},\"ticker\":{\"id\":\"24045\"}},\"id\":\"24044\",\"type\":\"LinearAxis\"},{\"attributes\":{\"args\":{\"other\":{\"id\":\"24032\"}},\"code\":\"other.start = this.value[0]\"},\"id\":\"24072\",\"type\":\"CustomJS\"},{\"attributes\":{},\"id\":\"24049\",\"type\":\"WheelZoomTool\"},{\"attributes\":{\"end\":10,\"js_property_callbacks\":{\"change:value\":[{\"id\":\"24072\"},{\"id\":\"24073\"}]},\"start\":0,\"title\":\"Adjust x-axis range\",\"value\":[1,9]},\"id\":\"24071\",\"type\":\"RangeSlider\"},{\"attributes\":{\"coordinates\":null,\"group\":null},\"id\":\"24611\",\"type\":\"Title\"}],\"root_ids\":[\"24077\"]},\"title\":\"Bokeh Application\",\"version\":\"2.4.1\"}};\n",
       "  const render_items = [{\"docid\":\"d6a29174-6aa4-4383-ba67-808ba439d03b\",\"root_ids\":[\"24077\"],\"roots\":{\"24077\":\"c2bc21d3-a0a0-40f3-a729-738a18cd9aa9\"}}];\n",
       "  root.Bokeh.embed.embed_items_notebook(docs_json, render_items);\n",
       "\n",
       "  }\n",
       "  if (root.Bokeh !== undefined) {\n",
       "    embed_document(root);\n",
       "  } else {\n",
       "    let attempts = 0;\n",
       "    const timer = setInterval(function(root) {\n",
       "      if (root.Bokeh !== undefined) {\n",
       "        clearInterval(timer);\n",
       "        embed_document(root);\n",
       "      } else {\n",
       "        attempts++;\n",
       "        if (attempts > 100) {\n",
       "          clearInterval(timer);\n",
       "          console.log(\"Bokeh: ERROR: Unable to run BokehJS code because BokehJS library is missing\");\n",
       "        }\n",
       "      }\n",
       "    }, 10, root)\n",
       "  }\n",
       "})(window);"
      ],
      "application/vnd.bokehjs_exec.v0+json": ""
     },
     "metadata": {
      "application/vnd.bokehjs_exec.v0+json": {
       "id": "24077"
      }
     },
     "output_type": "display_data"
    }
   ],
   "source": [
    "from bokeh.layouts import layout\n",
    "# Data\n",
    "x = df['A'].tolist()\n",
    "y = df['B'].tolist()\n",
    "# create plot with circle glyphs\n",
    "p = figure(x_range=(1, 9), width=500, height=250)\n",
    "points = p.circle(x=x, y=y, size=30, fill_color=\"#21a7df\")\n",
    "\n",
    "# Div\n",
    "div = Div(\n",
    "    text=\"\"\"\n",
    "          <p>Select the circle's size using this control element:</p>\n",
    "          \"\"\",\n",
    "    width=200,\n",
    "    height=30,\n",
    ")\n",
    "\n",
    "# Spinner\n",
    "spinner = Spinner(\n",
    "    title=\"Circle size\",\n",
    "    low=0,\n",
    "    high=60,\n",
    "    step=5,\n",
    "    value=points.glyph.size,\n",
    "    width=200,\n",
    ")\n",
    "spinner.js_link(\"value\", points.glyph, \"size\")\n",
    "\n",
    "# RangeSlider\n",
    "range_slider = RangeSlider(\n",
    "    title=\"Adjust x-axis range\",\n",
    "    start=0,\n",
    "    end=10,\n",
    "    step=1,\n",
    "    value=(p.x_range.start, p.x_range.end),\n",
    ")\n",
    "range_slider.js_link(\"value\", p.x_range, \"start\", attr_selector=0)\n",
    "range_slider.js_link(\"value\", p.x_range, \"end\", attr_selector=1)\n",
    "\n",
    "# Layour\n",
    "layout = layout(\n",
    "    [\n",
    "        [div, spinner],\n",
    "        [range_slider],\n",
    "        [p],\n",
    "    ]\n",
    ")\n",
    "\n",
    "# show result\n",
    "show(layout)"
   ]
  },
  {
   "cell_type": "markdown",
   "id": "incredible-invasion",
   "metadata": {},
   "source": [
    "## Plot with missing values"
   ]
  },
  {
   "cell_type": "markdown",
   "id": "indirect-difficulty",
   "metadata": {},
   "source": [
    "Bokeh does not require the user to have a data resource with no missing values. In Bokeh, users can pass the null values in the line charts and patch charts by generating glyphs with disjointed lines or gaps for the null values. In the following example, we will show how to plot missing values in line charts and patch charts. This technique can provide the data scientists with a clear understanding of the missing data and the trend before and after the missing value points."
   ]
  },
  {
   "cell_type": "code",
   "execution_count": 156,
   "id": "relevant-thickness",
   "metadata": {},
   "outputs": [
    {
     "data": {
      "text/html": [
       "\n",
       "\n",
       "\n",
       "\n",
       "\n",
       "\n",
       "  <div class=\"bk-root\" id=\"e260153f-2aaa-45d0-ae17-ccdf32c06869\" data-root-id=\"24677\"></div>\n"
      ]
     },
     "metadata": {},
     "output_type": "display_data"
    },
    {
     "data": {
      "application/javascript": [
       "(function(root) {\n",
       "  function embed_document(root) {\n",
       "    \n",
       "  const docs_json = {\"b4cbe475-6425-4d31-a57f-50579847f891\":{\"defs\":[],\"roots\":{\"references\":[{\"attributes\":{\"below\":[{\"id\":\"24686\"}],\"center\":[{\"id\":\"24689\"},{\"id\":\"24693\"}],\"height\":400,\"left\":[{\"id\":\"24690\"}],\"renderers\":[{\"id\":\"24712\"}],\"title\":{\"id\":\"25258\"},\"toolbar\":{\"id\":\"24701\"},\"width\":400,\"x_range\":{\"id\":\"24678\"},\"x_scale\":{\"id\":\"24682\"},\"y_range\":{\"id\":\"24680\"},\"y_scale\":{\"id\":\"24684\"}},\"id\":\"24677\",\"subtype\":\"Figure\",\"type\":\"Plot\"},{\"attributes\":{},\"id\":\"25266\",\"type\":\"UnionRenderers\"},{\"attributes\":{},\"id\":\"24698\",\"type\":\"ResetTool\"},{\"attributes\":{\"axis\":{\"id\":\"24686\"},\"coordinates\":null,\"group\":null,\"ticker\":null},\"id\":\"24689\",\"type\":\"Grid\"},{\"attributes\":{\"coordinates\":null,\"formatter\":{\"id\":\"25261\"},\"group\":null,\"major_label_policy\":{\"id\":\"25262\"},\"ticker\":{\"id\":\"24691\"}},\"id\":\"24690\",\"type\":\"LinearAxis\"},{\"attributes\":{},\"id\":\"24697\",\"type\":\"SaveTool\"},{\"attributes\":{\"coordinates\":null,\"data_source\":{\"id\":\"24708\"},\"glyph\":{\"id\":\"24709\"},\"group\":null,\"hover_glyph\":null,\"muted_glyph\":{\"id\":\"24711\"},\"nonselection_glyph\":{\"id\":\"24710\"},\"view\":{\"id\":\"24713\"}},\"id\":\"24712\",\"type\":\"GlyphRenderer\"},{\"attributes\":{\"overlay\":{\"id\":\"24700\"}},\"id\":\"24696\",\"type\":\"BoxZoomTool\"},{\"attributes\":{\"line_alpha\":0.2,\"line_color\":\"#1f77b4\",\"x\":{\"field\":\"x\"},\"y\":{\"field\":\"y\"}},\"id\":\"24711\",\"type\":\"Line\"},{\"attributes\":{},\"id\":\"25262\",\"type\":\"AllLabels\"},{\"attributes\":{},\"id\":\"24691\",\"type\":\"BasicTicker\"},{\"attributes\":{},\"id\":\"25267\",\"type\":\"Selection\"},{\"attributes\":{\"axis\":{\"id\":\"24690\"},\"coordinates\":null,\"dimension\":1,\"group\":null,\"ticker\":null},\"id\":\"24693\",\"type\":\"Grid\"},{\"attributes\":{},\"id\":\"24694\",\"type\":\"PanTool\"},{\"attributes\":{},\"id\":\"24678\",\"type\":\"DataRange1d\"},{\"attributes\":{\"coordinates\":null,\"group\":null},\"id\":\"25258\",\"type\":\"Title\"},{\"attributes\":{},\"id\":\"25261\",\"type\":\"BasicTickFormatter\"},{\"attributes\":{},\"id\":\"24682\",\"type\":\"LinearScale\"},{\"attributes\":{\"source\":{\"id\":\"24708\"}},\"id\":\"24713\",\"type\":\"CDSView\"},{\"attributes\":{\"tools\":[{\"id\":\"24694\"},{\"id\":\"24695\"},{\"id\":\"24696\"},{\"id\":\"24697\"},{\"id\":\"24698\"},{\"id\":\"24699\"}]},\"id\":\"24701\",\"type\":\"Toolbar\"},{\"attributes\":{\"line_color\":\"#1f77b4\",\"x\":{\"field\":\"x\"},\"y\":{\"field\":\"y\"}},\"id\":\"24709\",\"type\":\"Line\"},{\"attributes\":{},\"id\":\"24695\",\"type\":\"WheelZoomTool\"},{\"attributes\":{\"coordinates\":null,\"formatter\":{\"id\":\"25264\"},\"group\":null,\"major_label_policy\":{\"id\":\"25265\"},\"ticker\":{\"id\":\"24687\"}},\"id\":\"24686\",\"type\":\"LinearAxis\"},{\"attributes\":{\"bottom_units\":\"screen\",\"coordinates\":null,\"fill_alpha\":0.5,\"fill_color\":\"lightgrey\",\"group\":null,\"left_units\":\"screen\",\"level\":\"overlay\",\"line_alpha\":1.0,\"line_color\":\"black\",\"line_dash\":[4,4],\"line_width\":2,\"right_units\":\"screen\",\"syncable\":false,\"top_units\":\"screen\"},\"id\":\"24700\",\"type\":\"BoxAnnotation\"},{\"attributes\":{\"data\":{\"x\":[1,2,\"NaN\",3,4],\"y\":[2,4,6,8,10]},\"selected\":{\"id\":\"25267\"},\"selection_policy\":{\"id\":\"25266\"}},\"id\":\"24708\",\"type\":\"ColumnDataSource\"},{\"attributes\":{},\"id\":\"25264\",\"type\":\"BasicTickFormatter\"},{\"attributes\":{},\"id\":\"24687\",\"type\":\"BasicTicker\"},{\"attributes\":{\"line_alpha\":0.1,\"line_color\":\"#1f77b4\",\"x\":{\"field\":\"x\"},\"y\":{\"field\":\"y\"}},\"id\":\"24710\",\"type\":\"Line\"},{\"attributes\":{},\"id\":\"24680\",\"type\":\"DataRange1d\"},{\"attributes\":{},\"id\":\"25265\",\"type\":\"AllLabels\"},{\"attributes\":{},\"id\":\"24684\",\"type\":\"LinearScale\"},{\"attributes\":{},\"id\":\"24699\",\"type\":\"HelpTool\"}],\"root_ids\":[\"24677\"]},\"title\":\"Bokeh Application\",\"version\":\"2.4.1\"}};\n",
       "  const render_items = [{\"docid\":\"b4cbe475-6425-4d31-a57f-50579847f891\",\"root_ids\":[\"24677\"],\"roots\":{\"24677\":\"e260153f-2aaa-45d0-ae17-ccdf32c06869\"}}];\n",
       "  root.Bokeh.embed.embed_items_notebook(docs_json, render_items);\n",
       "\n",
       "  }\n",
       "  if (root.Bokeh !== undefined) {\n",
       "    embed_document(root);\n",
       "  } else {\n",
       "    let attempts = 0;\n",
       "    const timer = setInterval(function(root) {\n",
       "      if (root.Bokeh !== undefined) {\n",
       "        clearInterval(timer);\n",
       "        embed_document(root);\n",
       "      } else {\n",
       "        attempts++;\n",
       "        if (attempts > 100) {\n",
       "          clearInterval(timer);\n",
       "          console.log(\"Bokeh: ERROR: Unable to run BokehJS code because BokehJS library is missing\");\n",
       "        }\n",
       "      }\n",
       "    }, 10, root)\n",
       "  }\n",
       "})(window);"
      ],
      "application/vnd.bokehjs_exec.v0+json": ""
     },
     "metadata": {
      "application/vnd.bokehjs_exec.v0+json": {
       "id": "24677"
      }
     },
     "output_type": "display_data"
    }
   ],
   "source": [
    "#plot with na values in line chart\n",
    "from numpy import nan\n",
    "A = [1,2,np.nan,3,4]\n",
    "B = [2,4,6,8,10]\n",
    "p = figure(width = 400, height = 400)\n",
    "p.line(A,B)\n",
    "show(p)"
   ]
  },
  {
   "cell_type": "code",
   "execution_count": 163,
   "id": "protected-anaheim",
   "metadata": {},
   "outputs": [
    {
     "data": {
      "text/html": [
       "\n",
       "\n",
       "\n",
       "\n",
       "\n",
       "\n",
       "  <div class=\"bk-root\" id=\"29f15582-9abb-4f87-bbe9-cacd6990452e\" data-root-id=\"29437\"></div>\n"
      ]
     },
     "metadata": {},
     "output_type": "display_data"
    },
    {
     "data": {
      "application/javascript": [
       "(function(root) {\n",
       "  function embed_document(root) {\n",
       "    \n",
       "  const docs_json = {\"9c475172-307d-4fd2-8fe9-6efb9e1fbf05\":{\"defs\":[],\"roots\":{\"references\":[{\"attributes\":{\"below\":[{\"id\":\"29446\"}],\"center\":[{\"id\":\"29449\"},{\"id\":\"29453\"}],\"height\":400,\"left\":[{\"id\":\"29450\"}],\"renderers\":[{\"id\":\"29472\"}],\"title\":{\"id\":\"30095\"},\"toolbar\":{\"id\":\"29461\"},\"width\":400,\"x_range\":{\"id\":\"29438\"},\"x_scale\":{\"id\":\"29442\"},\"y_range\":{\"id\":\"29440\"},\"y_scale\":{\"id\":\"29444\"}},\"id\":\"29437\",\"subtype\":\"Figure\",\"type\":\"Plot\"},{\"attributes\":{},\"id\":\"29442\",\"type\":\"LinearScale\"},{\"attributes\":{\"coordinates\":null,\"formatter\":{\"id\":\"30098\"},\"group\":null,\"major_label_policy\":{\"id\":\"30099\"},\"ticker\":{\"id\":\"29451\"}},\"id\":\"29450\",\"type\":\"LinearAxis\"},{\"attributes\":{},\"id\":\"29447\",\"type\":\"BasicTicker\"},{\"attributes\":{},\"id\":\"30102\",\"type\":\"AllLabels\"},{\"attributes\":{\"bottom_units\":\"screen\",\"coordinates\":null,\"fill_alpha\":0.5,\"fill_color\":\"lightgrey\",\"group\":null,\"left_units\":\"screen\",\"level\":\"overlay\",\"line_alpha\":1.0,\"line_color\":\"black\",\"line_dash\":[4,4],\"line_width\":2,\"right_units\":\"screen\",\"syncable\":false,\"top_units\":\"screen\"},\"id\":\"29460\",\"type\":\"BoxAnnotation\"},{\"attributes\":{\"tools\":[{\"id\":\"29454\"},{\"id\":\"29455\"},{\"id\":\"29456\"},{\"id\":\"29457\"},{\"id\":\"29458\"},{\"id\":\"29459\"}]},\"id\":\"29461\",\"type\":\"Toolbar\"},{\"attributes\":{\"coordinates\":null,\"group\":null},\"id\":\"30095\",\"type\":\"Title\"},{\"attributes\":{},\"id\":\"30101\",\"type\":\"BasicTickFormatter\"},{\"attributes\":{\"fill_alpha\":0.2,\"fill_color\":\"#1f77b4\",\"hatch_alpha\":0.2,\"line_alpha\":0.2,\"line_color\":\"#1f77b4\",\"x\":{\"field\":\"x\"},\"y\":{\"field\":\"y\"}},\"id\":\"29471\",\"type\":\"Patch\"},{\"attributes\":{\"data\":{\"x\":[1,3,2,\"NaN\",3,10,5],\"y\":[2,8,4,\"NaN\",6,10,1]},\"selected\":{\"id\":\"30104\"},\"selection_policy\":{\"id\":\"30103\"}},\"id\":\"29468\",\"type\":\"ColumnDataSource\"},{\"attributes\":{\"coordinates\":null,\"data_source\":{\"id\":\"29468\"},\"glyph\":{\"id\":\"29469\"},\"group\":null,\"hover_glyph\":null,\"muted_glyph\":{\"id\":\"29471\"},\"nonselection_glyph\":{\"id\":\"29470\"},\"view\":{\"id\":\"29473\"}},\"id\":\"29472\",\"type\":\"GlyphRenderer\"},{\"attributes\":{\"axis\":{\"id\":\"29450\"},\"coordinates\":null,\"dimension\":1,\"group\":null,\"ticker\":null},\"id\":\"29453\",\"type\":\"Grid\"},{\"attributes\":{\"source\":{\"id\":\"29468\"}},\"id\":\"29473\",\"type\":\"CDSView\"},{\"attributes\":{},\"id\":\"30104\",\"type\":\"Selection\"},{\"attributes\":{\"fill_alpha\":0.1,\"fill_color\":\"#1f77b4\",\"hatch_alpha\":0.1,\"line_alpha\":0.1,\"line_color\":\"#1f77b4\",\"x\":{\"field\":\"x\"},\"y\":{\"field\":\"y\"}},\"id\":\"29470\",\"type\":\"Patch\"},{\"attributes\":{},\"id\":\"30103\",\"type\":\"UnionRenderers\"},{\"attributes\":{},\"id\":\"29454\",\"type\":\"PanTool\"},{\"attributes\":{},\"id\":\"30099\",\"type\":\"AllLabels\"},{\"attributes\":{\"axis\":{\"id\":\"29446\"},\"coordinates\":null,\"group\":null,\"ticker\":null},\"id\":\"29449\",\"type\":\"Grid\"},{\"attributes\":{},\"id\":\"29440\",\"type\":\"DataRange1d\"},{\"attributes\":{\"overlay\":{\"id\":\"29460\"}},\"id\":\"29456\",\"type\":\"BoxZoomTool\"},{\"attributes\":{},\"id\":\"29457\",\"type\":\"SaveTool\"},{\"attributes\":{},\"id\":\"29458\",\"type\":\"ResetTool\"},{\"attributes\":{\"fill_color\":\"#1f77b4\",\"line_color\":\"#1f77b4\",\"x\":{\"field\":\"x\"},\"y\":{\"field\":\"y\"}},\"id\":\"29469\",\"type\":\"Patch\"},{\"attributes\":{},\"id\":\"29438\",\"type\":\"DataRange1d\"},{\"attributes\":{},\"id\":\"29459\",\"type\":\"HelpTool\"},{\"attributes\":{},\"id\":\"29444\",\"type\":\"LinearScale\"},{\"attributes\":{\"coordinates\":null,\"formatter\":{\"id\":\"30101\"},\"group\":null,\"major_label_policy\":{\"id\":\"30102\"},\"ticker\":{\"id\":\"29447\"}},\"id\":\"29446\",\"type\":\"LinearAxis\"},{\"attributes\":{},\"id\":\"29455\",\"type\":\"WheelZoomTool\"},{\"attributes\":{},\"id\":\"29451\",\"type\":\"BasicTicker\"},{\"attributes\":{},\"id\":\"30098\",\"type\":\"BasicTickFormatter\"}],\"root_ids\":[\"29437\"]},\"title\":\"Bokeh Application\",\"version\":\"2.4.1\"}};\n",
       "  const render_items = [{\"docid\":\"9c475172-307d-4fd2-8fe9-6efb9e1fbf05\",\"root_ids\":[\"29437\"],\"roots\":{\"29437\":\"29f15582-9abb-4f87-bbe9-cacd6990452e\"}}];\n",
       "  root.Bokeh.embed.embed_items_notebook(docs_json, render_items);\n",
       "\n",
       "  }\n",
       "  if (root.Bokeh !== undefined) {\n",
       "    embed_document(root);\n",
       "  } else {\n",
       "    let attempts = 0;\n",
       "    const timer = setInterval(function(root) {\n",
       "      if (root.Bokeh !== undefined) {\n",
       "        clearInterval(timer);\n",
       "        embed_document(root);\n",
       "      } else {\n",
       "        attempts++;\n",
       "        if (attempts > 100) {\n",
       "          clearInterval(timer);\n",
       "          console.log(\"Bokeh: ERROR: Unable to run BokehJS code because BokehJS library is missing\");\n",
       "        }\n",
       "      }\n",
       "    }, 10, root)\n",
       "  }\n",
       "})(window);"
      ],
      "application/vnd.bokehjs_exec.v0+json": ""
     },
     "metadata": {
      "application/vnd.bokehjs_exec.v0+json": {
       "id": "29437"
      }
     },
     "output_type": "display_data"
    }
   ],
   "source": [
    "#plot with na values in patch chart\n",
    "from numpy import nan\n",
    "A = [1,3,2,np.nan,3,10,5]\n",
    "B = [2,8,4,np.nan,6,10,1]\n",
    "p = figure(width = 400, height = 400)\n",
    "p.patch(A,B)\n",
    "show(p)"
   ]
  },
  {
   "cell_type": "markdown",
   "id": "moderate-lawrence",
   "metadata": {},
   "source": [
    "## Categorical Value\n",
    "Bokeh can also handle categorical data by representing the categorical and hierarchical values in a sequence of strings. The most common approaches to visualize these non-continuous values are bar charts, categorical heatmaps, and jitter plots. In the following example, we will display how to present the categorical data in these charts."
   ]
  },
  {
   "cell_type": "markdown",
   "id": "ranking-guard",
   "metadata": {},
   "source": [
    "### Barchart\n",
    "We plot the categorical value in a bar chart by first defining the x_range in the figure() function. After that, we call the vbar with the two arguments x, the categorical attribute, and y, the numerical value in value(x,y,...) module. For a better visualization effect, the user can assign colors to the name of color columns and outline and the color argument of vbar().\n",
    "Users can also generate advanced bar charts using stacking and grouping with nested categories. The vbar_stack() function contains two main arguments, the stack indicator attribute, and the categorical attributes. Users can also group the bar plots by attributes with the dodge() process when defining the bar plot. In the following example, we display how to use these techniques to create plots of the stacked and grouped bar."
   ]
  },
  {
   "cell_type": "code",
   "execution_count": 206,
   "id": "wrong-jenny",
   "metadata": {},
   "outputs": [
    {
     "data": {
      "text/html": [
       "<div>\n",
       "<style scoped>\n",
       "    .dataframe tbody tr th:only-of-type {\n",
       "        vertical-align: middle;\n",
       "    }\n",
       "\n",
       "    .dataframe tbody tr th {\n",
       "        vertical-align: top;\n",
       "    }\n",
       "\n",
       "    .dataframe thead th {\n",
       "        text-align: right;\n",
       "    }\n",
       "</style>\n",
       "<table border=\"1\" class=\"dataframe\">\n",
       "  <thead>\n",
       "    <tr style=\"text-align: right;\">\n",
       "      <th></th>\n",
       "      <th>name</th>\n",
       "      <th>Reading</th>\n",
       "      <th>Writing</th>\n",
       "      <th>Math</th>\n",
       "    </tr>\n",
       "  </thead>\n",
       "  <tbody>\n",
       "    <tr>\n",
       "      <th>0</th>\n",
       "      <td>Ann</td>\n",
       "      <td>100</td>\n",
       "      <td>20</td>\n",
       "      <td>50</td>\n",
       "    </tr>\n",
       "    <tr>\n",
       "      <th>1</th>\n",
       "      <td>Bob</td>\n",
       "      <td>90</td>\n",
       "      <td>30</td>\n",
       "      <td>60</td>\n",
       "    </tr>\n",
       "    <tr>\n",
       "      <th>2</th>\n",
       "      <td>Cath</td>\n",
       "      <td>70</td>\n",
       "      <td>40</td>\n",
       "      <td>90</td>\n",
       "    </tr>\n",
       "    <tr>\n",
       "      <th>3</th>\n",
       "      <td>Duke</td>\n",
       "      <td>60</td>\n",
       "      <td>50</td>\n",
       "      <td>20</td>\n",
       "    </tr>\n",
       "    <tr>\n",
       "      <th>4</th>\n",
       "      <td>Ella</td>\n",
       "      <td>20</td>\n",
       "      <td>40</td>\n",
       "      <td>30</td>\n",
       "    </tr>\n",
       "    <tr>\n",
       "      <th>5</th>\n",
       "      <td>Frank</td>\n",
       "      <td>10</td>\n",
       "      <td>80</td>\n",
       "      <td>50</td>\n",
       "    </tr>\n",
       "  </tbody>\n",
       "</table>\n",
       "</div>"
      ],
      "text/plain": [
       "    name  Reading  Writing  Math\n",
       "0    Ann      100       20    50\n",
       "1    Bob       90       30    60\n",
       "2   Cath       70       40    90\n",
       "3   Duke       60       50    20\n",
       "4   Ella       20       40    30\n",
       "5  Frank       10       80    50"
      ]
     },
     "execution_count": 206,
     "metadata": {},
     "output_type": "execute_result"
    }
   ],
   "source": [
    "#define a categorical dataset\n",
    "data = {'name': ['Ann', 'Bob', 'Cath', 'Duke','Ella',\"Frank\"], \n",
    "        'Reading': [100,90,70,60,20,10],\n",
    "       'Writing':[20,30,40,50,40,80],\n",
    "       'Math':[50,60,90,20,30,50]\n",
    "       }\n",
    "pd.DataFrame.from_dict(data)"
   ]
  },
  {
   "cell_type": "code",
   "execution_count": 203,
   "id": "heard-interaction",
   "metadata": {},
   "outputs": [
    {
     "data": {
      "text/html": [
       "\n",
       "\n",
       "\n",
       "\n",
       "\n",
       "\n",
       "  <div class=\"bk-root\" id=\"04402d6c-e209-436d-a02d-6784b6ca6b8a\" data-root-id=\"43287\"></div>\n"
      ]
     },
     "metadata": {},
     "output_type": "display_data"
    },
    {
     "data": {
      "application/javascript": [
       "(function(root) {\n",
       "  function embed_document(root) {\n",
       "    \n",
       "  const docs_json = {\"83615fb8-39b4-49d7-8d4c-c22c87d46bbd\":{\"defs\":[],\"roots\":{\"references\":[{\"attributes\":{\"below\":[{\"id\":\"43298\"}],\"center\":[{\"id\":\"43300\"},{\"id\":\"43304\"},{\"id\":\"43321\"}],\"height\":250,\"left\":[{\"id\":\"43301\"}],\"renderers\":[{\"id\":\"43310\"}],\"title\":{\"id\":\"43288\"},\"toolbar\":{\"id\":\"43305\"},\"toolbar_location\":null,\"x_range\":{\"id\":\"43290\"},\"x_scale\":{\"id\":\"43294\"},\"y_range\":{\"id\":\"43292\"},\"y_scale\":{\"id\":\"43296\"}},\"id\":\"43287\",\"subtype\":\"Figure\",\"type\":\"Plot\"},{\"attributes\":{\"coordinates\":null,\"data_source\":{\"id\":\"43286\"},\"glyph\":{\"id\":\"43307\"},\"group\":null,\"hover_glyph\":null,\"muted_glyph\":{\"id\":\"43309\"},\"nonselection_glyph\":{\"id\":\"43308\"},\"view\":{\"id\":\"43311\"}},\"id\":\"43310\",\"type\":\"GlyphRenderer\"},{\"attributes\":{},\"id\":\"43296\",\"type\":\"LinearScale\"},{\"attributes\":{\"coordinates\":null,\"formatter\":{\"id\":\"43317\"},\"group\":null,\"major_label_policy\":{\"id\":\"43318\"},\"ticker\":{\"id\":\"43299\"}},\"id\":\"43298\",\"type\":\"CategoricalAxis\"},{\"attributes\":{\"coordinates\":null,\"group\":null,\"text\":\"Reading Scores\"},\"id\":\"43288\",\"type\":\"Title\"},{\"attributes\":{\"source\":{\"id\":\"43286\"}},\"id\":\"43311\",\"type\":\"CDSView\"},{\"attributes\":{},\"id\":\"43302\",\"type\":\"BasicTicker\"},{\"attributes\":{\"label\":{\"field\":\"name\"},\"renderers\":[{\"id\":\"43310\"}]},\"id\":\"43322\",\"type\":\"LegendItem\"},{\"attributes\":{},\"id\":\"43315\",\"type\":\"AllLabels\"},{\"attributes\":{\"factors\":[\"Ann\",\"Bob\",\"Cath\",\"Duke\",\"Ella\",\"Frank\"]},\"id\":\"43290\",\"type\":\"FactorRange\"},{\"attributes\":{},\"id\":\"43294\",\"type\":\"CategoricalScale\"},{\"attributes\":{\"axis\":{\"id\":\"43301\"},\"coordinates\":null,\"dimension\":1,\"group\":null,\"ticker\":null},\"id\":\"43304\",\"type\":\"Grid\"},{\"attributes\":{\"coordinates\":null,\"formatter\":{\"id\":\"43314\"},\"group\":null,\"major_label_policy\":{\"id\":\"43315\"},\"ticker\":{\"id\":\"43302\"}},\"id\":\"43301\",\"type\":\"LinearAxis\"},{\"attributes\":{\"coordinates\":null,\"group\":null,\"items\":[{\"id\":\"43322\"}],\"location\":\"top_center\",\"orientation\":\"horizontal\"},\"id\":\"43321\",\"type\":\"Legend\"},{\"attributes\":{},\"id\":\"43317\",\"type\":\"CategoricalTickFormatter\"},{\"attributes\":{\"data\":{\"Reading\":[100,90,70,60,20,10],\"color\":[\"#3288bd\",\"#99d594\",\"#e6f598\",\"#fee08b\",\"#fc8d59\",\"#d53e4f\"],\"name\":[\"Ann\",\"Bob\",\"Cath\",\"Duke\",\"Ella\",\"Frank\"]},\"selected\":{\"id\":\"43320\"},\"selection_policy\":{\"id\":\"43319\"}},\"id\":\"43286\",\"type\":\"ColumnDataSource\"},{\"attributes\":{},\"id\":\"43314\",\"type\":\"BasicTickFormatter\"},{\"attributes\":{},\"id\":\"43320\",\"type\":\"Selection\"},{\"attributes\":{\"axis\":{\"id\":\"43298\"},\"coordinates\":null,\"grid_line_color\":null,\"group\":null,\"ticker\":null},\"id\":\"43300\",\"type\":\"Grid\"},{\"attributes\":{},\"id\":\"43292\",\"type\":\"DataRange1d\"},{\"attributes\":{},\"id\":\"43319\",\"type\":\"UnionRenderers\"},{\"attributes\":{},\"id\":\"43305\",\"type\":\"Toolbar\"},{\"attributes\":{},\"id\":\"43299\",\"type\":\"CategoricalTicker\"},{\"attributes\":{\"fill_color\":{\"field\":\"color\"},\"hatch_color\":{\"field\":\"color\"},\"line_color\":{\"field\":\"color\"},\"top\":{\"field\":\"Reading\"},\"width\":{\"value\":0.9},\"x\":{\"field\":\"name\"}},\"id\":\"43307\",\"type\":\"VBar\"},{\"attributes\":{\"fill_alpha\":{\"value\":0.2},\"fill_color\":{\"field\":\"color\"},\"hatch_alpha\":{\"value\":0.2},\"hatch_color\":{\"field\":\"color\"},\"line_alpha\":{\"value\":0.2},\"line_color\":{\"field\":\"color\"},\"top\":{\"field\":\"Reading\"},\"width\":{\"value\":0.9},\"x\":{\"field\":\"name\"}},\"id\":\"43309\",\"type\":\"VBar\"},{\"attributes\":{\"fill_alpha\":{\"value\":0.1},\"fill_color\":{\"field\":\"color\"},\"hatch_alpha\":{\"value\":0.1},\"hatch_color\":{\"field\":\"color\"},\"line_alpha\":{\"value\":0.1},\"line_color\":{\"field\":\"color\"},\"top\":{\"field\":\"Reading\"},\"width\":{\"value\":0.9},\"x\":{\"field\":\"name\"}},\"id\":\"43308\",\"type\":\"VBar\"},{\"attributes\":{},\"id\":\"43318\",\"type\":\"AllLabels\"}],\"root_ids\":[\"43287\"]},\"title\":\"Bokeh Application\",\"version\":\"2.4.1\"}};\n",
       "  const render_items = [{\"docid\":\"83615fb8-39b4-49d7-8d4c-c22c87d46bbd\",\"root_ids\":[\"43287\"],\"roots\":{\"43287\":\"04402d6c-e209-436d-a02d-6784b6ca6b8a\"}}];\n",
       "  root.Bokeh.embed.embed_items_notebook(docs_json, render_items);\n",
       "\n",
       "  }\n",
       "  if (root.Bokeh !== undefined) {\n",
       "    embed_document(root);\n",
       "  } else {\n",
       "    let attempts = 0;\n",
       "    const timer = setInterval(function(root) {\n",
       "      if (root.Bokeh !== undefined) {\n",
       "        clearInterval(timer);\n",
       "        embed_document(root);\n",
       "      } else {\n",
       "        attempts++;\n",
       "        if (attempts > 100) {\n",
       "          clearInterval(timer);\n",
       "          console.log(\"Bokeh: ERROR: Unable to run BokehJS code because BokehJS library is missing\");\n",
       "        }\n",
       "      }\n",
       "    }, 10, root)\n",
       "  }\n",
       "})(window);"
      ],
      "application/vnd.bokehjs_exec.v0+json": ""
     },
     "metadata": {
      "application/vnd.bokehjs_exec.v0+json": {
       "id": "43287"
      }
     },
     "output_type": "display_data"
    }
   ],
   "source": [
    "from bokeh.models import ColumnDataSource\n",
    "from bokeh.palettes import Spectral6\n",
    "\n",
    "# Use ColumnDataSource to assign each value in the categorical variable to the color() argument\n",
    "source_color = ColumnDataSource(data=dict(name = data['name'], \n",
    "                                          Reading=data['Reading'], \n",
    "                                          color=Spectral6))\n",
    "\n",
    "p = figure(x_range=data['name'],height=250, title=\"Reading Scores\", \n",
    "           toolbar_location=None, tools=\"\")\n",
    "#add sepearte bars for the catergorical variable\n",
    "p.vbar(x='name', top = 'Reading', width=0.9,\n",
    "       color = 'color',\n",
    "       legend_field=\"name\",#define legend for the catergorical value\n",
    "       source = source_color)\n",
    "\n",
    "#add legend for the categorical variable\n",
    "p.xgrid.grid_line_color = None\n",
    "p.legend.orientation = \"horizontal\"\n",
    "p.legend.location = 'top_center'\n",
    "show(p)\n",
    "\n",
    "\n",
    "\n"
   ]
  },
  {
   "cell_type": "code",
   "execution_count": 215,
   "id": "tribal-custody",
   "metadata": {},
   "outputs": [
    {
     "data": {
      "text/html": [
       "\n",
       "\n",
       "\n",
       "\n",
       "\n",
       "\n",
       "  <div class=\"bk-root\" id=\"5a155eed-9a2e-48a4-baf6-a8c8cfc86a15\" data-root-id=\"48060\"></div>\n"
      ]
     },
     "metadata": {},
     "output_type": "display_data"
    },
    {
     "data": {
      "application/javascript": [
       "(function(root) {\n",
       "  function embed_document(root) {\n",
       "    \n",
       "  const docs_json = {\"c759fab5-51df-4137-848b-194759512fbb\":{\"defs\":[],\"roots\":{\"references\":[{\"attributes\":{\"below\":[{\"id\":\"48071\"}],\"center\":[{\"id\":\"48073\"},{\"id\":\"48077\"},{\"id\":\"48095\"}],\"height\":250,\"left\":[{\"id\":\"48074\"}],\"renderers\":[{\"id\":\"48084\"},{\"id\":\"48102\"},{\"id\":\"48119\"}],\"title\":{\"id\":\"48061\"},\"toolbar\":{\"id\":\"48078\"},\"toolbar_location\":null,\"x_range\":{\"id\":\"48063\"},\"x_scale\":{\"id\":\"48067\"},\"y_range\":{\"id\":\"48065\"},\"y_scale\":{\"id\":\"48069\"}},\"id\":\"48060\",\"subtype\":\"Figure\",\"type\":\"Plot\"},{\"attributes\":{\"coordinates\":null,\"formatter\":{\"id\":\"48091\"},\"group\":null,\"major_label_policy\":{\"id\":\"48092\"},\"ticker\":{\"id\":\"48072\"}},\"id\":\"48071\",\"type\":\"CategoricalAxis\"},{\"attributes\":{\"coordinates\":null,\"group\":null,\"items\":[{\"id\":\"48096\"},{\"id\":\"48113\"},{\"id\":\"48130\"}],\"location\":\"top_left\",\"orientation\":\"horizontal\"},\"id\":\"48095\",\"type\":\"Legend\"},{\"attributes\":{},\"id\":\"48069\",\"type\":\"LinearScale\"},{\"attributes\":{\"coordinates\":null,\"data_source\":{\"id\":\"48059\"},\"glyph\":{\"id\":\"48081\"},\"group\":null,\"hover_glyph\":null,\"muted_glyph\":{\"id\":\"48083\"},\"nonselection_glyph\":{\"id\":\"48082\"},\"view\":{\"id\":\"48085\"}},\"id\":\"48084\",\"type\":\"GlyphRenderer\"},{\"attributes\":{\"coordinates\":null,\"group\":null,\"text\":\"Scores for each student\"},\"id\":\"48061\",\"type\":\"Title\"},{\"attributes\":{},\"id\":\"48091\",\"type\":\"CategoricalTickFormatter\"},{\"attributes\":{},\"id\":\"48088\",\"type\":\"BasicTickFormatter\"},{\"attributes\":{},\"id\":\"48092\",\"type\":\"AllLabels\"},{\"attributes\":{\"data\":{\"Math\":[50,60,90,20,30,50],\"Reading\":[100,90,70,60,20,10],\"Writing\":[20,30,40,50,40,80],\"name\":[\"Ann\",\"Bob\",\"Cath\",\"Duke\",\"Ella\",\"Frank\"]},\"selected\":{\"id\":\"48094\"},\"selection_policy\":{\"id\":\"48093\"}},\"id\":\"48059\",\"type\":\"ColumnDataSource\"},{\"attributes\":{\"source\":{\"id\":\"48059\"}},\"id\":\"48085\",\"type\":\"CDSView\"},{\"attributes\":{\"range\":{\"id\":\"48063\"},\"value\":-0.25},\"id\":\"48079\",\"type\":\"Dodge\"},{\"attributes\":{},\"id\":\"48094\",\"type\":\"Selection\"},{\"attributes\":{},\"id\":\"48075\",\"type\":\"BasicTicker\"},{\"attributes\":{\"fill_color\":{\"value\":\"Red\"},\"hatch_color\":{\"value\":\"Red\"},\"line_color\":{\"value\":\"Red\"},\"top\":{\"field\":\"Reading\"},\"width\":{\"value\":0.2},\"x\":{\"field\":\"name\",\"transform\":{\"id\":\"48079\"}}},\"id\":\"48081\",\"type\":\"VBar\"},{\"attributes\":{\"axis\":{\"id\":\"48074\"},\"coordinates\":null,\"dimension\":1,\"group\":null,\"ticker\":null},\"id\":\"48077\",\"type\":\"Grid\"},{\"attributes\":{\"fill_color\":{\"value\":\"Blue\"},\"hatch_color\":{\"value\":\"Blue\"},\"line_color\":{\"value\":\"Blue\"},\"top\":{\"field\":\"Math\"},\"width\":{\"value\":0.2},\"x\":{\"field\":\"name\",\"transform\":{\"id\":\"48114\"}}},\"id\":\"48116\",\"type\":\"VBar\"},{\"attributes\":{\"range\":{\"id\":\"48063\"}},\"id\":\"48097\",\"type\":\"Dodge\"},{\"attributes\":{\"axis\":{\"id\":\"48071\"},\"coordinates\":null,\"grid_line_color\":null,\"group\":null,\"ticker\":null},\"id\":\"48073\",\"type\":\"Grid\"},{\"attributes\":{\"coordinates\":null,\"formatter\":{\"id\":\"48088\"},\"group\":null,\"major_label_policy\":{\"id\":\"48089\"},\"ticker\":{\"id\":\"48075\"}},\"id\":\"48074\",\"type\":\"LinearAxis\"},{\"attributes\":{\"fill_color\":{\"value\":\"Green\"},\"hatch_color\":{\"value\":\"Green\"},\"line_color\":{\"value\":\"Green\"},\"top\":{\"field\":\"Writing\"},\"width\":{\"value\":0.2},\"x\":{\"field\":\"name\",\"transform\":{\"id\":\"48097\"}}},\"id\":\"48099\",\"type\":\"VBar\"},{\"attributes\":{\"label\":{\"value\":\"Reading\"},\"renderers\":[{\"id\":\"48084\"}]},\"id\":\"48096\",\"type\":\"LegendItem\"},{\"attributes\":{\"factors\":[\"Ann\",\"Bob\",\"Cath\",\"Duke\",\"Ella\",\"Frank\"],\"range_padding\":0.1},\"id\":\"48063\",\"type\":\"FactorRange\"},{\"attributes\":{\"range\":{\"id\":\"48063\"},\"value\":0.25},\"id\":\"48114\",\"type\":\"Dodge\"},{\"attributes\":{},\"id\":\"48067\",\"type\":\"CategoricalScale\"},{\"attributes\":{\"fill_alpha\":{\"value\":0.2},\"fill_color\":{\"value\":\"Green\"},\"hatch_alpha\":{\"value\":0.2},\"hatch_color\":{\"value\":\"Green\"},\"line_alpha\":{\"value\":0.2},\"line_color\":{\"value\":\"Green\"},\"top\":{\"field\":\"Writing\"},\"width\":{\"value\":0.2},\"x\":{\"field\":\"name\",\"transform\":{\"id\":\"48097\"}}},\"id\":\"48101\",\"type\":\"VBar\"},{\"attributes\":{\"fill_alpha\":{\"value\":0.1},\"fill_color\":{\"value\":\"Blue\"},\"hatch_alpha\":{\"value\":0.1},\"hatch_color\":{\"value\":\"Blue\"},\"line_alpha\":{\"value\":0.1},\"line_color\":{\"value\":\"Blue\"},\"top\":{\"field\":\"Math\"},\"width\":{\"value\":0.2},\"x\":{\"field\":\"name\",\"transform\":{\"id\":\"48114\"}}},\"id\":\"48117\",\"type\":\"VBar\"},{\"attributes\":{},\"id\":\"48072\",\"type\":\"CategoricalTicker\"},{\"attributes\":{\"coordinates\":null,\"data_source\":{\"id\":\"48059\"},\"glyph\":{\"id\":\"48116\"},\"group\":null,\"hover_glyph\":null,\"muted_glyph\":{\"id\":\"48118\"},\"nonselection_glyph\":{\"id\":\"48117\"},\"view\":{\"id\":\"48120\"}},\"id\":\"48119\",\"type\":\"GlyphRenderer\"},{\"attributes\":{},\"id\":\"48065\",\"type\":\"DataRange1d\"},{\"attributes\":{\"fill_alpha\":{\"value\":0.1},\"fill_color\":{\"value\":\"Green\"},\"hatch_alpha\":{\"value\":0.1},\"hatch_color\":{\"value\":\"Green\"},\"line_alpha\":{\"value\":0.1},\"line_color\":{\"value\":\"Green\"},\"top\":{\"field\":\"Writing\"},\"width\":{\"value\":0.2},\"x\":{\"field\":\"name\",\"transform\":{\"id\":\"48097\"}}},\"id\":\"48100\",\"type\":\"VBar\"},{\"attributes\":{},\"id\":\"48078\",\"type\":\"Toolbar\"},{\"attributes\":{\"label\":{\"value\":\"Math\"},\"renderers\":[{\"id\":\"48119\"}]},\"id\":\"48130\",\"type\":\"LegendItem\"},{\"attributes\":{\"coordinates\":null,\"data_source\":{\"id\":\"48059\"},\"glyph\":{\"id\":\"48099\"},\"group\":null,\"hover_glyph\":null,\"muted_glyph\":{\"id\":\"48101\"},\"nonselection_glyph\":{\"id\":\"48100\"},\"view\":{\"id\":\"48103\"}},\"id\":\"48102\",\"type\":\"GlyphRenderer\"},{\"attributes\":{},\"id\":\"48089\",\"type\":\"AllLabels\"},{\"attributes\":{\"label\":{\"value\":\"Writing\"},\"renderers\":[{\"id\":\"48102\"}]},\"id\":\"48113\",\"type\":\"LegendItem\"},{\"attributes\":{\"source\":{\"id\":\"48059\"}},\"id\":\"48120\",\"type\":\"CDSView\"},{\"attributes\":{\"source\":{\"id\":\"48059\"}},\"id\":\"48103\",\"type\":\"CDSView\"},{\"attributes\":{\"fill_alpha\":{\"value\":0.1},\"fill_color\":{\"value\":\"Red\"},\"hatch_alpha\":{\"value\":0.1},\"hatch_color\":{\"value\":\"Red\"},\"line_alpha\":{\"value\":0.1},\"line_color\":{\"value\":\"Red\"},\"top\":{\"field\":\"Reading\"},\"width\":{\"value\":0.2},\"x\":{\"field\":\"name\",\"transform\":{\"id\":\"48079\"}}},\"id\":\"48082\",\"type\":\"VBar\"},{\"attributes\":{\"fill_alpha\":{\"value\":0.2},\"fill_color\":{\"value\":\"Blue\"},\"hatch_alpha\":{\"value\":0.2},\"hatch_color\":{\"value\":\"Blue\"},\"line_alpha\":{\"value\":0.2},\"line_color\":{\"value\":\"Blue\"},\"top\":{\"field\":\"Math\"},\"width\":{\"value\":0.2},\"x\":{\"field\":\"name\",\"transform\":{\"id\":\"48114\"}}},\"id\":\"48118\",\"type\":\"VBar\"},{\"attributes\":{},\"id\":\"48093\",\"type\":\"UnionRenderers\"},{\"attributes\":{\"fill_alpha\":{\"value\":0.2},\"fill_color\":{\"value\":\"Red\"},\"hatch_alpha\":{\"value\":0.2},\"hatch_color\":{\"value\":\"Red\"},\"line_alpha\":{\"value\":0.2},\"line_color\":{\"value\":\"Red\"},\"top\":{\"field\":\"Reading\"},\"width\":{\"value\":0.2},\"x\":{\"field\":\"name\",\"transform\":{\"id\":\"48079\"}}},\"id\":\"48083\",\"type\":\"VBar\"}],\"root_ids\":[\"48060\"]},\"title\":\"Bokeh Application\",\"version\":\"2.4.1\"}};\n",
       "  const render_items = [{\"docid\":\"c759fab5-51df-4137-848b-194759512fbb\",\"root_ids\":[\"48060\"],\"roots\":{\"48060\":\"5a155eed-9a2e-48a4-baf6-a8c8cfc86a15\"}}];\n",
       "  root.Bokeh.embed.embed_items_notebook(docs_json, render_items);\n",
       "\n",
       "  }\n",
       "  if (root.Bokeh !== undefined) {\n",
       "    embed_document(root);\n",
       "  } else {\n",
       "    let attempts = 0;\n",
       "    const timer = setInterval(function(root) {\n",
       "      if (root.Bokeh !== undefined) {\n",
       "        clearInterval(timer);\n",
       "        embed_document(root);\n",
       "      } else {\n",
       "        attempts++;\n",
       "        if (attempts > 100) {\n",
       "          clearInterval(timer);\n",
       "          console.log(\"Bokeh: ERROR: Unable to run BokehJS code because BokehJS library is missing\");\n",
       "        }\n",
       "      }\n",
       "    }, 10, root)\n",
       "  }\n",
       "})(window);"
      ],
      "application/vnd.bokehjs_exec.v0+json": ""
     },
     "metadata": {
      "application/vnd.bokehjs_exec.v0+json": {
       "id": "48060"
      }
     },
     "output_type": "display_data"
    }
   ],
   "source": [
    "\n",
    "from bokeh.transform import dodge\n",
    "source = ColumnDataSource(data=data)\n",
    "\n",
    "p = figure(x_range=data['name'], height=250, title=\"Scores for each student\",\n",
    "           toolbar_location=None, tools=\"\")\n",
    "# use the dodge function to group the categorical value\n",
    "p.vbar(x=dodge('name', -0.25, range=p.x_range), top='Reading', width=0.2, source=source,\n",
    "       color=\"Red\", legend_label=\"Reading\")\n",
    "\n",
    "p.vbar(x=dodge('name',  0.0,  range=p.x_range), top='Writing', width=0.2, source=source,\n",
    "       color=\"Green\", legend_label=\"Writing\")\n",
    "\n",
    "p.vbar(x=dodge('name',  0.25, range=p.x_range), top='Math', width=0.2, source=source,\n",
    "       color=\"Blue\", legend_label=\"Math\")\n",
    "\n",
    "p.x_range.range_padding = 0.1\n",
    "p.xgrid.grid_line_color = None\n",
    "p.legend.location = \"top_left\"\n",
    "p.legend.orientation = \"horizontal\"\n",
    "\n",
    "show(p)"
   ]
  },
  {
   "cell_type": "markdown",
   "id": "horizontal-grass",
   "metadata": {},
   "source": [
    "### Scatter plots and Heatmap"
   ]
  },
  {
   "cell_type": "markdown",
   "id": "copyrighted-favor",
   "metadata": {},
   "source": [
    "\n",
    "When dealing with large datasets with a massive amount of data for each definite value, the scatter plot would have a better visualization outcome than the bar plot. To create a scatter plot without overlapping every category, use the jitter() function when defining the circle() plot to provide each point with a random offset.\n",
    "When dealing with datasets in which the value is related to two different categorical values, it would be hard to visualize the relationship through the bar or scatter plots. Under this situation, we could use the heatmaps through defining each of the x and y-axis to be a categorical value. By mapping the value to the palette, the audience can understand the distribution of values and quickly compare the categorical values. The visualization process can be implemented through the rect() function. "
   ]
  },
  {
   "cell_type": "code",
   "execution_count": null,
   "id": "inclusive-temperature",
   "metadata": {},
   "outputs": [],
   "source": []
  },
  {
   "cell_type": "markdown",
   "id": "double-prevention",
   "metadata": {},
   "source": [
    "## Display and export plot\n",
    "\n",
    "While the plots in the previous examples were automatically converted to an HTML file, Bokeh also allows users to export the plot as PNG files, create a standalone HTML file,  or Jupyter/Zeppelin notebooks for different occasions. To generate the interactive output, the user can input output_file() function for an HTML output or output_notebook() function for an notebook output. These output method functions are often used together with the show() or save() functions. "
   ]
  },
  {
   "cell_type": "markdown",
   "id": "imposed-solution",
   "metadata": {},
   "source": [
    "## Plot with Geographic Data in real-life map"
   ]
  },
  {
   "cell_type": "markdown",
   "id": "progressive-cloud",
   "metadata": {},
   "source": [
    "When dealing with the real-life data, one important topic would be the geology data analysis.  Bokeh performed an outstanding role in putting our data in the rea-world context. Though the TileSource mechanism, Bokeh can plot data in geographic coordinates. <br>\n",
    "The WTMS is the most widely used web standard for tiled map data. Using Web Mercator format to measure distances from Greenwich, England as meters north and meters west, the WMTS could convinently interpret the data on a geometry coordinate without distorting the global shape. <br>In the following example, we would give a brief introduction into the WMTS tile source.\n",
    "While the user could define the interface with required zoom from the tile provider, the WTMS have built-in tile sources which could be achieved from bokeh.tile_providers() function. In the example, we are using the 'ESRI_IMAGERY' tile provider provied by the Esri Company."
   ]
  },
  {
   "cell_type": "code",
   "execution_count": 261,
   "id": "twelve-recall",
   "metadata": {},
   "outputs": [],
   "source": [
    "#import data\n",
    "from bokeh.plotting import figure,show\n",
    "from bokeh.models import WMTSTileSource\n",
    "\n",
    "# web mercator coordinates for USA\n",
    "USA = x_range,y_range =  ((-13884029,-7453304), (2698291,6455972))\n",
    "# define the plot and the axis type. Here we are using the mercator coordicates\n",
    "p = figure(tools='pan, wheel_zoom', x_range=x_range, y_range=y_range, \n",
    "           x_axis_type=\"mercator\", y_axis_type=\"mercator\")"
   ]
  },
  {
   "cell_type": "code",
   "execution_count": 262,
   "id": "minus-retirement",
   "metadata": {},
   "outputs": [
    {
     "data": {
      "text/html": [
       "<div style=\"display: table;\"><div style=\"display: table-row;\"><div style=\"display: table-cell;\"><b title=\"bokeh.models.renderers.TileRenderer\">TileRenderer</b>(</div><div style=\"display: table-cell;\">id&nbsp;=&nbsp;'64378', <span id=\"64381\" style=\"cursor: pointer;\">&hellip;)</span></div></div><div class=\"64380\" style=\"display: none;\"><div style=\"display: table-cell;\"></div><div style=\"display: table-cell;\">alpha&nbsp;=&nbsp;1.0,</div></div><div class=\"64380\" style=\"display: none;\"><div style=\"display: table-cell;\"></div><div style=\"display: table-cell;\">coordinates&nbsp;=&nbsp;None,</div></div><div class=\"64380\" style=\"display: none;\"><div style=\"display: table-cell;\"></div><div style=\"display: table-cell;\">group&nbsp;=&nbsp;None,</div></div><div class=\"64380\" style=\"display: none;\"><div style=\"display: table-cell;\"></div><div style=\"display: table-cell;\">js_event_callbacks&nbsp;=&nbsp;{},</div></div><div class=\"64380\" style=\"display: none;\"><div style=\"display: table-cell;\"></div><div style=\"display: table-cell;\">js_property_callbacks&nbsp;=&nbsp;{},</div></div><div class=\"64380\" style=\"display: none;\"><div style=\"display: table-cell;\"></div><div style=\"display: table-cell;\">level&nbsp;=&nbsp;'image',</div></div><div class=\"64380\" style=\"display: none;\"><div style=\"display: table-cell;\"></div><div style=\"display: table-cell;\">name&nbsp;=&nbsp;None,</div></div><div class=\"64380\" style=\"display: none;\"><div style=\"display: table-cell;\"></div><div style=\"display: table-cell;\">render_parents&nbsp;=&nbsp;True,</div></div><div class=\"64380\" style=\"display: none;\"><div style=\"display: table-cell;\"></div><div style=\"display: table-cell;\">smoothing&nbsp;=&nbsp;True,</div></div><div class=\"64380\" style=\"display: none;\"><div style=\"display: table-cell;\"></div><div style=\"display: table-cell;\">subscribed_events&nbsp;=&nbsp;[],</div></div><div class=\"64380\" style=\"display: none;\"><div style=\"display: table-cell;\"></div><div style=\"display: table-cell;\">syncable&nbsp;=&nbsp;True,</div></div><div class=\"64380\" style=\"display: none;\"><div style=\"display: table-cell;\"></div><div style=\"display: table-cell;\">tags&nbsp;=&nbsp;[],</div></div><div class=\"64380\" style=\"display: none;\"><div style=\"display: table-cell;\"></div><div style=\"display: table-cell;\">tile_source&nbsp;=&nbsp;WMTSTileSource(id='64377', ...),</div></div><div class=\"64380\" style=\"display: none;\"><div style=\"display: table-cell;\"></div><div style=\"display: table-cell;\">visible&nbsp;=&nbsp;True,</div></div><div class=\"64380\" style=\"display: none;\"><div style=\"display: table-cell;\"></div><div style=\"display: table-cell;\">x_range_name&nbsp;=&nbsp;'default',</div></div><div class=\"64380\" style=\"display: none;\"><div style=\"display: table-cell;\"></div><div style=\"display: table-cell;\">y_range_name&nbsp;=&nbsp;'default')</div></div></div>\n",
       "<script>\n",
       "(function() {\n",
       "  let expanded = false;\n",
       "  const ellipsis = document.getElementById(\"64381\");\n",
       "  ellipsis.addEventListener(\"click\", function() {\n",
       "    const rows = document.getElementsByClassName(\"64380\");\n",
       "    for (let i = 0; i < rows.length; i++) {\n",
       "      const el = rows[i];\n",
       "      el.style.display = expanded ? \"none\" : \"table-row\";\n",
       "    }\n",
       "    ellipsis.innerHTML = expanded ? \"&hellip;)\" : \"&lsaquo;&lsaquo;&lsaquo;\";\n",
       "    expanded = !expanded;\n",
       "  });\n",
       "})();\n",
       "</script>\n"
      ],
      "text/plain": [
       "TileRenderer(id='64378', ...)"
      ]
     },
     "execution_count": 262,
     "metadata": {},
     "output_type": "execute_result"
    }
   ],
   "source": [
    "# import tile source\n",
    "from bokeh.tile_providers import get_provider, Vendors\n",
    "esri = get_provider(Vendors.ESRI_IMAGERY)\n",
    "\n",
    "p.add_tile(esri)"
   ]
  },
  {
   "cell_type": "code",
   "execution_count": 263,
   "id": "compound-surface",
   "metadata": {},
   "outputs": [
    {
     "data": {
      "text/html": [
       "\n",
       "\n",
       "\n",
       "\n",
       "\n",
       "\n",
       "  <div class=\"bk-root\" id=\"3c056d7b-ec6c-4990-8355-870048e8a81a\" data-root-id=\"64347\"></div>\n"
      ]
     },
     "metadata": {},
     "output_type": "display_data"
    },
    {
     "data": {
      "application/javascript": [
       "(function(root) {\n",
       "  function embed_document(root) {\n",
       "    \n",
       "  const docs_json = {\"b0c0873f-4ddf-42ac-8c2d-5821e6152007\":{\"defs\":[],\"roots\":{\"references\":[{\"attributes\":{\"below\":[{\"id\":\"64356\"}],\"center\":[{\"id\":\"64363\"},{\"id\":\"64371\"}],\"left\":[{\"id\":\"64364\"}],\"renderers\":[{\"id\":\"64378\"}],\"title\":{\"id\":\"65307\"},\"toolbar\":{\"id\":\"64374\"},\"x_range\":{\"id\":\"64348\"},\"x_scale\":{\"id\":\"64352\"},\"y_range\":{\"id\":\"64350\"},\"y_scale\":{\"id\":\"64354\"}},\"id\":\"64347\",\"subtype\":\"Figure\",\"type\":\"Plot\"},{\"attributes\":{\"tools\":[{\"id\":\"64372\"},{\"id\":\"64373\"}]},\"id\":\"64374\",\"type\":\"Toolbar\"},{\"attributes\":{\"axis\":{\"id\":\"64356\"},\"coordinates\":null,\"group\":null,\"ticker\":null},\"id\":\"64363\",\"type\":\"Grid\"},{\"attributes\":{\"dimension\":\"lon\"},\"id\":\"64359\",\"type\":\"MercatorTickFormatter\"},{\"attributes\":{},\"id\":\"64352\",\"type\":\"LinearScale\"},{\"attributes\":{\"coordinates\":null,\"group\":null,\"tile_source\":{\"id\":\"64377\"}},\"id\":\"64378\",\"type\":\"TileRenderer\"},{\"attributes\":{\"coordinates\":null,\"formatter\":{\"id\":\"64359\"},\"group\":null,\"major_label_policy\":{\"id\":\"65314\"},\"ticker\":{\"id\":\"64357\"}},\"id\":\"64356\",\"type\":\"MercatorAxis\"},{\"attributes\":{\"end\":6455972,\"start\":2698291},\"id\":\"64350\",\"type\":\"Range1d\"},{\"attributes\":{\"coordinates\":null,\"formatter\":{\"id\":\"64367\"},\"group\":null,\"major_label_policy\":{\"id\":\"65311\"},\"ticker\":{\"id\":\"64365\"}},\"id\":\"64364\",\"type\":\"MercatorAxis\"},{\"attributes\":{\"attribution\":\"&copy; <a href=\\\"http://downloads.esri.com/ArcGISOnline/docs/tou_summary.pdf\\\">Esri</a>, Earthstar Geographics\",\"url\":\"https://server.arcgisonline.com/ArcGIS/rest/services/World_Imagery/MapServer/tile/{Z}/{Y}/{X}.jpg\"},\"id\":\"64377\",\"type\":\"WMTSTileSource\"},{\"attributes\":{},\"id\":\"65314\",\"type\":\"AllLabels\"},{\"attributes\":{},\"id\":\"65311\",\"type\":\"AllLabels\"},{\"attributes\":{\"dimension\":\"lon\"},\"id\":\"64357\",\"type\":\"MercatorTicker\"},{\"attributes\":{\"end\":-7453304,\"start\":-13884029},\"id\":\"64348\",\"type\":\"Range1d\"},{\"attributes\":{},\"id\":\"64354\",\"type\":\"LinearScale\"},{\"attributes\":{\"coordinates\":null,\"group\":null},\"id\":\"65307\",\"type\":\"Title\"},{\"attributes\":{\"dimension\":\"lat\"},\"id\":\"64365\",\"type\":\"MercatorTicker\"},{\"attributes\":{},\"id\":\"64372\",\"type\":\"PanTool\"},{\"attributes\":{},\"id\":\"64373\",\"type\":\"WheelZoomTool\"},{\"attributes\":{\"dimension\":\"lat\"},\"id\":\"64367\",\"type\":\"MercatorTickFormatter\"},{\"attributes\":{\"axis\":{\"id\":\"64364\"},\"coordinates\":null,\"dimension\":1,\"group\":null,\"ticker\":null},\"id\":\"64371\",\"type\":\"Grid\"}],\"root_ids\":[\"64347\"]},\"title\":\"Bokeh Application\",\"version\":\"2.4.1\"}};\n",
       "  const render_items = [{\"docid\":\"b0c0873f-4ddf-42ac-8c2d-5821e6152007\",\"root_ids\":[\"64347\"],\"roots\":{\"64347\":\"3c056d7b-ec6c-4990-8355-870048e8a81a\"}}];\n",
       "  root.Bokeh.embed.embed_items_notebook(docs_json, render_items);\n",
       "\n",
       "  }\n",
       "  if (root.Bokeh !== undefined) {\n",
       "    embed_document(root);\n",
       "  } else {\n",
       "    let attempts = 0;\n",
       "    const timer = setInterval(function(root) {\n",
       "      if (root.Bokeh !== undefined) {\n",
       "        clearInterval(timer);\n",
       "        embed_document(root);\n",
       "      } else {\n",
       "        attempts++;\n",
       "        if (attempts > 100) {\n",
       "          clearInterval(timer);\n",
       "          console.log(\"Bokeh: ERROR: Unable to run BokehJS code because BokehJS library is missing\");\n",
       "        }\n",
       "      }\n",
       "    }, 10, root)\n",
       "  }\n",
       "})(window);"
      ],
      "application/vnd.bokehjs_exec.v0+json": ""
     },
     "metadata": {
      "application/vnd.bokehjs_exec.v0+json": {
       "id": "64347"
      }
     },
     "output_type": "display_data"
    }
   ],
   "source": [
    "show(p)"
   ]
  },
  {
   "cell_type": "markdown",
   "id": "strong-footage",
   "metadata": {},
   "source": [
    "After defining the map, we could add circle plots on the graph through the circle function. "
   ]
  },
  {
   "cell_type": "code",
   "execution_count": 264,
   "id": "finnish-measure",
   "metadata": {},
   "outputs": [
    {
     "data": {
      "text/html": [
       "<div>\n",
       "<style scoped>\n",
       "    .dataframe tbody tr th:only-of-type {\n",
       "        vertical-align: middle;\n",
       "    }\n",
       "\n",
       "    .dataframe tbody tr th {\n",
       "        vertical-align: top;\n",
       "    }\n",
       "\n",
       "    .dataframe thead th {\n",
       "        text-align: right;\n",
       "    }\n",
       "</style>\n",
       "<table border=\"1\" class=\"dataframe\">\n",
       "  <thead>\n",
       "    <tr style=\"text-align: right;\">\n",
       "      <th></th>\n",
       "      <th>name</th>\n",
       "      <th>lon</th>\n",
       "      <th>lat</th>\n",
       "      <th>x</th>\n",
       "      <th>y</th>\n",
       "    </tr>\n",
       "  </thead>\n",
       "  <tbody>\n",
       "    <tr>\n",
       "      <th>0</th>\n",
       "      <td>Washington, DC</td>\n",
       "      <td>-77.2700</td>\n",
       "      <td>38.5400</td>\n",
       "      <td>-8.601657e+06</td>\n",
       "      <td>4.655993e+06</td>\n",
       "    </tr>\n",
       "    <tr>\n",
       "      <th>1</th>\n",
       "      <td>NYC</td>\n",
       "      <td>-74.0059</td>\n",
       "      <td>40.7128</td>\n",
       "      <td>-8.238299e+06</td>\n",
       "      <td>4.970072e+06</td>\n",
       "    </tr>\n",
       "  </tbody>\n",
       "</table>\n",
       "</div>"
      ],
      "text/plain": [
       "             name      lon      lat             x             y\n",
       "0  Washington, DC -77.2700  38.5400 -8.601657e+06  4.655993e+06\n",
       "1             NYC -74.0059  40.7128 -8.238299e+06  4.970072e+06"
      ]
     },
     "execution_count": 264,
     "metadata": {},
     "output_type": "execute_result"
    }
   ],
   "source": [
    "import pandas as pd\n",
    "import numpy as np\n",
    "\n",
    "def wgs84_to_web_mercator(df, lon=\"lon\", lat=\"lat\"):\n",
    "    \"\"\"Converts decimal longitude/latitude to Web Mercator format\"\"\"\n",
    "    k = 6378137\n",
    "    df[\"x\"] = df[lon] * (k * np.pi/180.0)\n",
    "    df[\"y\"] = np.log(np.tan((90 + df[lat]) * np.pi/360.0)) * k\n",
    "    return df\n",
    "#define the input dataset with the latitude and longtitude of our goal cities\n",
    "df = pd.DataFrame(dict(name=[\"Washington, DC\", \"NYC\"], lon=[-77.27,-118.14], lat=[38.54,34.3]))\n",
    "# convert the lat and lon to web mercator coordinates\n",
    "wgs84_to_web_mercator(df)"
   ]
  },
  {
   "cell_type": "code",
   "execution_count": 265,
   "id": "surprised-front",
   "metadata": {},
   "outputs": [
    {
     "data": {
      "text/html": [
       "\n",
       "\n",
       "\n",
       "\n",
       "\n",
       "\n",
       "  <div class=\"bk-root\" id=\"f8fc3cd8-b28d-4f0e-aa9c-e68456915692\" data-root-id=\"64347\"></div>\n"
      ]
     },
     "metadata": {},
     "output_type": "display_data"
    },
    {
     "data": {
      "application/javascript": [
       "(function(root) {\n",
       "  function embed_document(root) {\n",
       "    \n",
       "  const docs_json = {\"1f10fa6d-9c59-4b35-a05c-06256acd31d2\":{\"defs\":[],\"roots\":{\"references\":[{\"attributes\":{\"below\":[{\"id\":\"64356\"}],\"center\":[{\"id\":\"64363\"},{\"id\":\"64371\"}],\"left\":[{\"id\":\"64364\"}],\"renderers\":[{\"id\":\"64378\"},{\"id\":\"65359\"}],\"title\":{\"id\":\"65307\"},\"toolbar\":{\"id\":\"64374\"},\"x_range\":{\"id\":\"64348\"},\"x_scale\":{\"id\":\"64352\"},\"y_range\":{\"id\":\"64350\"},\"y_scale\":{\"id\":\"64354\"}},\"id\":\"64347\",\"subtype\":\"Figure\",\"type\":\"Plot\"},{\"attributes\":{\"tools\":[{\"id\":\"64372\"},{\"id\":\"64373\"}]},\"id\":\"64374\",\"type\":\"Toolbar\"},{\"attributes\":{\"axis\":{\"id\":\"64356\"},\"coordinates\":null,\"group\":null,\"ticker\":null},\"id\":\"64363\",\"type\":\"Grid\"},{\"attributes\":{\"dimension\":\"lon\"},\"id\":\"64359\",\"type\":\"MercatorTickFormatter\"},{\"attributes\":{\"fill_alpha\":{\"value\":0.1},\"fill_color\":{\"value\":\"orange\"},\"hatch_alpha\":{\"value\":0.1},\"line_alpha\":{\"value\":0.1},\"line_color\":{\"value\":\"#1f77b4\"},\"size\":{\"value\":10},\"x\":{\"field\":\"x\"},\"y\":{\"field\":\"y\"}},\"id\":\"65357\",\"type\":\"Circle\"},{\"attributes\":{},\"id\":\"64352\",\"type\":\"LinearScale\"},{\"attributes\":{\"coordinates\":null,\"group\":null,\"tile_source\":{\"id\":\"64377\"}},\"id\":\"64378\",\"type\":\"TileRenderer\"},{\"attributes\":{\"source\":{\"id\":\"65355\"}},\"id\":\"65360\",\"type\":\"CDSView\"},{\"attributes\":{\"coordinates\":null,\"formatter\":{\"id\":\"64359\"},\"group\":null,\"major_label_policy\":{\"id\":\"65314\"},\"ticker\":{\"id\":\"64357\"}},\"id\":\"64356\",\"type\":\"MercatorAxis\"},{\"attributes\":{\"end\":6455972,\"start\":2698291},\"id\":\"64350\",\"type\":\"Range1d\"},{\"attributes\":{\"coordinates\":null,\"formatter\":{\"id\":\"64367\"},\"group\":null,\"major_label_policy\":{\"id\":\"65311\"},\"ticker\":{\"id\":\"64365\"}},\"id\":\"64364\",\"type\":\"MercatorAxis\"},{\"attributes\":{\"attribution\":\"&copy; <a href=\\\"http://downloads.esri.com/ArcGISOnline/docs/tou_summary.pdf\\\">Esri</a>, Earthstar Geographics\",\"url\":\"https://server.arcgisonline.com/ArcGIS/rest/services/World_Imagery/MapServer/tile/{Z}/{Y}/{X}.jpg\"},\"id\":\"64377\",\"type\":\"WMTSTileSource\"},{\"attributes\":{\"fill_alpha\":{\"value\":0.2},\"fill_color\":{\"value\":\"orange\"},\"hatch_alpha\":{\"value\":0.2},\"line_alpha\":{\"value\":0.2},\"line_color\":{\"value\":\"#1f77b4\"},\"size\":{\"value\":10},\"x\":{\"field\":\"x\"},\"y\":{\"field\":\"y\"}},\"id\":\"65358\",\"type\":\"Circle\"},{\"attributes\":{},\"id\":\"65314\",\"type\":\"AllLabels\"},{\"attributes\":{},\"id\":\"65311\",\"type\":\"AllLabels\"},{\"attributes\":{\"dimension\":\"lon\"},\"id\":\"64357\",\"type\":\"MercatorTicker\"},{\"attributes\":{\"end\":-7453304,\"start\":-13884029},\"id\":\"64348\",\"type\":\"Range1d\"},{\"attributes\":{\"data\":{\"x\":{\"__ndarray__\":\"ew+3IQdoYMGf/KLGNm1fwQ==\",\"dtype\":\"float64\",\"order\":\"little\",\"shape\":[2]},\"y\":{\"__ndarray__\":\"LhlmRd7CUUFnqxDllfVSQQ==\",\"dtype\":\"float64\",\"order\":\"little\",\"shape\":[2]}},\"selected\":{\"id\":\"66295\"},\"selection_policy\":{\"id\":\"66294\"}},\"id\":\"65355\",\"type\":\"ColumnDataSource\"},{\"attributes\":{\"fill_color\":{\"value\":\"orange\"},\"line_color\":{\"value\":\"#1f77b4\"},\"size\":{\"value\":10},\"x\":{\"field\":\"x\"},\"y\":{\"field\":\"y\"}},\"id\":\"65356\",\"type\":\"Circle\"},{\"attributes\":{},\"id\":\"64354\",\"type\":\"LinearScale\"},{\"attributes\":{},\"id\":\"66295\",\"type\":\"Selection\"},{\"attributes\":{\"coordinates\":null,\"group\":null},\"id\":\"65307\",\"type\":\"Title\"},{\"attributes\":{\"dimension\":\"lat\"},\"id\":\"64365\",\"type\":\"MercatorTicker\"},{\"attributes\":{},\"id\":\"66294\",\"type\":\"UnionRenderers\"},{\"attributes\":{},\"id\":\"64372\",\"type\":\"PanTool\"},{\"attributes\":{},\"id\":\"64373\",\"type\":\"WheelZoomTool\"},{\"attributes\":{\"dimension\":\"lat\"},\"id\":\"64367\",\"type\":\"MercatorTickFormatter\"},{\"attributes\":{\"axis\":{\"id\":\"64364\"},\"coordinates\":null,\"dimension\":1,\"group\":null,\"ticker\":null},\"id\":\"64371\",\"type\":\"Grid\"},{\"attributes\":{\"coordinates\":null,\"data_source\":{\"id\":\"65355\"},\"glyph\":{\"id\":\"65356\"},\"group\":null,\"hover_glyph\":null,\"muted_glyph\":{\"id\":\"65358\"},\"nonselection_glyph\":{\"id\":\"65357\"},\"view\":{\"id\":\"65360\"}},\"id\":\"65359\",\"type\":\"GlyphRenderer\"}],\"root_ids\":[\"64347\"]},\"title\":\"Bokeh Application\",\"version\":\"2.4.1\"}};\n",
       "  const render_items = [{\"docid\":\"1f10fa6d-9c59-4b35-a05c-06256acd31d2\",\"root_ids\":[\"64347\"],\"roots\":{\"64347\":\"f8fc3cd8-b28d-4f0e-aa9c-e68456915692\"}}];\n",
       "  root.Bokeh.embed.embed_items_notebook(docs_json, render_items);\n",
       "\n",
       "  }\n",
       "  if (root.Bokeh !== undefined) {\n",
       "    embed_document(root);\n",
       "  } else {\n",
       "    let attempts = 0;\n",
       "    const timer = setInterval(function(root) {\n",
       "      if (root.Bokeh !== undefined) {\n",
       "        clearInterval(timer);\n",
       "        embed_document(root);\n",
       "      } else {\n",
       "        attempts++;\n",
       "        if (attempts > 100) {\n",
       "          clearInterval(timer);\n",
       "          console.log(\"Bokeh: ERROR: Unable to run BokehJS code because BokehJS library is missing\");\n",
       "        }\n",
       "      }\n",
       "    }, 10, root)\n",
       "  }\n",
       "})(window);"
      ],
      "application/vnd.bokehjs_exec.v0+json": ""
     },
     "metadata": {
      "application/vnd.bokehjs_exec.v0+json": {
       "id": "64347"
      }
     },
     "output_type": "display_data"
    }
   ],
   "source": [
    "#plot\n",
    "p.circle(x=df['x'], y=df['y'], fill_color='orange', size=10)\n",
    "show(p)"
   ]
  },
  {
   "cell_type": "markdown",
   "id": "golden-still",
   "metadata": {},
   "source": [
    "## Resource In Bokeh\n",
    "Bokeh come along with many built-in datasets for the user to play around. The data can be obtained through the sampledata module. The users can further learn about the functions in Bokeh and explore advanced data visualization tools with these datasets"
   ]
  },
  {
   "cell_type": "code",
   "execution_count": 216,
   "id": "historic-batman",
   "metadata": {},
   "outputs": [
    {
     "name": "stdout",
     "output_type": "stream",
     "text": [
      "Creating /Users/ruyiyang/.bokeh directory\n",
      "Creating /Users/ruyiyang/.bokeh/data directory\n",
      "Using data directory: /Users/ruyiyang/.bokeh/data\n",
      "Downloading: CGM.csv (1589982 bytes)\n",
      "   1589982 [100.00%]\n",
      "Downloading: US_Counties.zip (3171836 bytes)\n",
      "   3171836 [100.00%]\n",
      "Unpacking: US_Counties.csv\n",
      "Downloading: us_cities.json (713565 bytes)\n",
      "    713565 [100.00%]\n",
      "Downloading: unemployment09.csv (253301 bytes)\n",
      "    253301 [100.00%]\n",
      "Downloading: AAPL.csv (166698 bytes)\n",
      "    166698 [100.00%]\n",
      "Downloading: FB.csv (9706 bytes)\n",
      "      9706 [100.00%]\n",
      "Downloading: GOOG.csv (113894 bytes)\n",
      "    113894 [100.00%]\n",
      "Downloading: IBM.csv (165625 bytes)\n",
      "    165625 [100.00%]\n",
      "Downloading: MSFT.csv (161614 bytes)\n",
      "    161614 [100.00%]\n",
      "Downloading: WPP2012_SA_DB03_POPULATION_QUINQUENNIAL.zip (4816256 bytes)\n",
      "   4816256 [100.00%]\n",
      "Unpacking: WPP2012_SA_DB03_POPULATION_QUINQUENNIAL.csv\n",
      "Downloading: gapminder_fertility.csv (64346 bytes)\n",
      "     64346 [100.00%]\n",
      "Downloading: gapminder_population.csv (94509 bytes)\n",
      "     94509 [100.00%]\n",
      "Downloading: gapminder_life_expectancy.csv (73243 bytes)\n",
      "     73243 [100.00%]\n",
      "Downloading: gapminder_regions.csv (7781 bytes)\n",
      "      7781 [100.00%]\n",
      "Downloading: world_cities.zip (645274 bytes)\n",
      "    645274 [100.00%]\n",
      "Unpacking: world_cities.csv\n",
      "Downloading: airports.json (6373 bytes)\n",
      "      6373 [100.00%]\n",
      "Downloading: movies.db.zip (5053420 bytes)\n",
      "   5053420 [100.00%]\n",
      "Unpacking: movies.db\n",
      "Downloading: airports.csv (203190 bytes)\n",
      "    203190 [100.00%]\n",
      "Downloading: routes.csv (377280 bytes)\n",
      "    377280 [100.00%]\n",
      "Downloading: haarcascade_frontalface_default.xml (930127 bytes)\n",
      "    930127 [100.00%]\n"
     ]
    }
   ],
   "source": [
    "import bokeh.sampledata\n",
    "bokeh.sampledata.download()"
   ]
  }
 ],
 "metadata": {
  "kernelspec": {
   "display_name": "Python 3",
   "language": "python",
   "name": "python3"
  },
  "language_info": {
   "codemirror_mode": {
    "name": "ipython",
    "version": 3
   },
   "file_extension": ".py",
   "mimetype": "text/x-python",
   "name": "python",
   "nbconvert_exporter": "python",
   "pygments_lexer": "ipython3",
   "version": "3.9.1"
  }
 },
 "nbformat": 4,
 "nbformat_minor": 5
}
